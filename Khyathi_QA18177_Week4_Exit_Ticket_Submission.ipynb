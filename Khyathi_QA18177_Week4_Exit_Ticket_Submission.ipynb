{
 "cells": [
  {
   "cell_type": "markdown",
   "id": "c8bb154c",
   "metadata": {},
   "source": [
    "**Last Week's Class:**\n",
    "\n",
    " User-Defined Functions, Arguments, and Loops with List Comprehension\n",
    "\n",
    "- Last week's class focused on user-defined functions in Python.\n",
    "\n",
    " `def` keyword, how to define arguments (both positional and keyword arguments), and how to return values from functions.\n",
    "\n",
    "-  loops, including `for` and `while` loops, and how to use them to iterate over lists and perform repetitive tasks. \n",
    "\n",
    "\n",
    "**Today's Plan:**\n",
    "\n",
    "*Object-Oriented Programming (OOP), Python Exceptions, Read and Write Files*\n",
    "\n",
    "- In today's class, we will delve into Object-Oriented Programming (OOP). \n",
    "\n",
    "- classes and objects, how to define classes, attributes, and methods. \n",
    "\n",
    "- understand the concepts of encapsulation, inheritance, and polymorphism, which are fundamental to OOP.\n",
    "\n",
    "**Python exceptions.** \n",
    "- learn how to handle errors and exceptions using try, except, and finally blocks. \n",
    "- importance of error handling for robust code.\n",
    "\n",
    " **file I/O (Input/Output)**\n",
    "\n",
    "- read data from files and write data to files in Python. \n",
    "\n",
    " - opening, reading, writing, and closing files. We will explore different modes for file operations, such as reading text or binary files.\n",
    "\n"
   ]
  },
  {
   "cell_type": "code",
   "execution_count": 1,
   "id": "b46a5446",
   "metadata": {},
   "outputs": [
    {
     "name": "stdout",
     "output_type": "stream",
     "text": [
      "Hello, Alice!\n"
     ]
    }
   ],
   "source": [
    "def greet(name):\n",
    "    return f\"Hello, {name}!\"\n",
    "\n",
    "message = greet(\"Alice\")\n",
    "print(message)  # Output: Hello, Alice!\n"
   ]
  },
  {
   "cell_type": "code",
   "execution_count": 2,
   "id": "1076237e",
   "metadata": {},
   "outputs": [
    {
     "name": "stdout",
     "output_type": "stream",
     "text": [
      "1\n",
      "2\n",
      "3\n",
      "4\n",
      "5\n"
     ]
    }
   ],
   "source": [
    "numbers = [1, 2, 3, 4, 5]\n",
    "for num in numbers:\n",
    "    print(num)\n"
   ]
  },
  {
   "cell_type": "code",
   "execution_count": null,
   "id": "665a6da8",
   "metadata": {},
   "outputs": [],
   "source": []
  },
  {
   "cell_type": "code",
   "execution_count": 3,
   "id": "0e0f0974",
   "metadata": {},
   "outputs": [
    {
     "name": "stdout",
     "output_type": "stream",
     "text": [
      "[1, 4, 9, 16, 25]\n"
     ]
    }
   ],
   "source": [
    "numbers = [1, 2, 3, 4, 5]\n",
    "squared_numbers = [num ** 2 for num in numbers]\n",
    "print(squared_numbers)  # Output: [1, 4, 9, 16, 25]\n"
   ]
  },
  {
   "cell_type": "code",
   "execution_count": null,
   "id": "6228cd2c",
   "metadata": {},
   "outputs": [],
   "source": []
  },
  {
   "cell_type": "code",
   "execution_count": 4,
   "id": "5bd11c42",
   "metadata": {},
   "outputs": [
    {
     "name": "stdout",
     "output_type": "stream",
     "text": [
      "[1, 4, 9, 16, 25]\n"
     ]
    }
   ],
   "source": [
    "numbers = [1, 2, 3, 4, 5]\n",
    "squared_numbers = [num ** 2 for num in numbers]\n",
    "print(squared_numbers)  # Output: [1, 4, 9, 16, 25]\n"
   ]
  },
  {
   "cell_type": "markdown",
   "id": "9a5f5f9a",
   "metadata": {},
   "source": [
    "### Write a python function to claculate the factorial of a given integer\n"
   ]
  },
  {
   "cell_type": "code",
   "execution_count": 8,
   "id": "5febf40c",
   "metadata": {},
   "outputs": [
    {
     "name": "stdout",
     "output_type": "stream",
     "text": [
      "720\n"
     ]
    }
   ],
   "source": [
    "def factorial(num):\n",
    "    if num==0 and 1:\n",
    "        return 1\n",
    "    else:\n",
    "        return num*factorial(num-1)\n",
    "result=factorial(6)\n",
    "print(result)"
   ]
  },
  {
   "cell_type": "markdown",
   "id": "72cdcdf6",
   "metadata": {},
   "source": [
    "### Create  a python program that generate a list of all prime numbers within specified range"
   ]
  },
  {
   "cell_type": "code",
   "execution_count": 16,
   "id": "c20ca3f8",
   "metadata": {},
   "outputs": [
    {
     "name": "stdout",
     "output_type": "stream",
     "text": [
      "[2, 3, 5, 7, 11, 13, 17, 19, 23, 29, 31, 37, 41, 43, 47, 53, 59, 61, 67, 71, 73, 79, 83, 89, 97]\n"
     ]
    }
   ],
   "source": [
    "def is_prime(num):\n",
    "    if num<=1:\n",
    "        return False\n",
    "    \n",
    "    for i in range(2, int(num**0.5)+1):\n",
    "        if num%i==0:\n",
    "            return False\n",
    "    return True\n",
    "\n",
    "def generate_prime(start,end):\n",
    "    prime_numbers=[]\n",
    "    for num in range (start,end+1):\n",
    "        if is_prime(num):\n",
    "            prime_numbers.append(num)\n",
    "    return prime_numbers\n",
    "\n",
    "prime=generate_prime(1,100)\n",
    "print(prime)"
   ]
  },
  {
   "cell_type": "markdown",
   "id": "d17cbfbe",
   "metadata": {},
   "source": [
    "### OOP -  is the concept of object\n",
    "\n",
    "- Objects are instance of class\n",
    "\n",
    "- represent real world entities or concepts\n",
    "\n",
    "OOP is designed to model the objects interact and operate in real world\n",
    "\n",
    "- Here are some of the basic concept\n",
    "\n",
    "1. Class - It is a blue print or template for creating object\n",
    "\n",
    "2. Object - an instance of class\n",
    "\n",
    "3. attributes(Data Members): Variables or data members that store the state or the characteristics of an object\n",
    "** in person class, attribute could be age, name address\n",
    "\n",
    "4. Method(Member Function): Functions defined within the class -- for example car -- class, method start_engine(), accerlate(), brake()\n",
    "\n",
    "5. Inheritance: allow new class to inherit attribute or methods from super class\n",
    "\n",
    "6. Encapsulation: The principle of bundling data (attribute) and functions(methods)\n",
    "\n",
    "7. Polymorphism: Allow objects of different classes to be treated as object of common superclass. It can also helps to override methods.\n",
    "\n",
    "8. Abstraction: method simplyfying\n",
    "\n",
    "9. Constructor: A special method in class -- to initialize the object attributes\n",
    "\n",
    "10. Destructor: read more about this"
   ]
  },
  {
   "cell_type": "markdown",
   "id": "2bd69f25",
   "metadata": {},
   "source": [
    "Classes and Objects: how to define classes and create objects from them. Classes are used to model real-world objects or concepts, and objects are instances of those classes."
   ]
  },
  {
   "cell_type": "code",
   "execution_count": 12,
   "id": "6c287b53",
   "metadata": {},
   "outputs": [
    {
     "name": "stdout",
     "output_type": "stream",
     "text": [
      "Buddy says Woof!\n"
     ]
    }
   ],
   "source": [
    "class Dog:\n",
    "    def __init__(self, name):\n",
    "        self.name = name\n",
    "\n",
    "    def bark(self):\n",
    "        return f\"{self.name} says Woof!\"\n",
    "\n",
    "dog1 = Dog(\"Buddy\")\n",
    "print(dog1.bark())  # Output: Buddy says Woof!\n"
   ]
  },
  {
   "cell_type": "code",
   "execution_count": null,
   "id": "18c5ea0b",
   "metadata": {},
   "outputs": [],
   "source": []
  },
  {
   "cell_type": "code",
   "execution_count": 32,
   "id": "9fe160ea",
   "metadata": {},
   "outputs": [
    {
     "name": "stdout",
     "output_type": "stream",
     "text": [
      "name is Alice and age is 30\n"
     ]
    }
   ],
   "source": [
    "class Person:\n",
    "    #constructor (initializing object attribute)\n",
    "    def __init__(self, name, age):  #objects are name and age\n",
    "        \n",
    "        self.name = name\n",
    "        self.age = age\n",
    "        \n",
    "    # Method to introduce the person\n",
    "    \n",
    "    def introduce(self):\n",
    "        print(f\"Hello, my name is {self.name}, and I am {self.age} years old\")\n",
    "        \n",
    "    # create Person objects\n",
    "person1=Person(\"Alice\", 30)\n",
    "person2=Person(\"Alia\", 40)\n",
    "\n",
    "# Access Object attribute and call methods\n",
    "\n",
    "print(f\"name is {person1.name} and age is {person1.age}\")"
   ]
  },
  {
   "cell_type": "markdown",
   "id": "0395070a",
   "metadata": {},
   "source": [
    "1. Person is class function\n",
    "\n",
    "2. __init__ : a constructor method that initialize name and age attributes with the new person object is created \n",
    "\n",
    "3. Inside the person class -- method \"introduce- to print out greeting message using the name and age"
   ]
  },
  {
   "cell_type": "markdown",
   "id": "3a2d9d0f",
   "metadata": {},
   "source": [
    "inheritance:  how inheritance allows one class to inherit attributes and methods from another class, promoting code reuse."
   ]
  },
  {
   "cell_type": "code",
   "execution_count": 17,
   "id": "1fa83b2a",
   "metadata": {},
   "outputs": [
    {
     "name": "stdout",
     "output_type": "stream",
     "text": [
      "Whiskers says Woof!\n",
      "Whiskers says Purr!\n"
     ]
    }
   ],
   "source": [
    "class Cat(Dog):\n",
    "    def purr(self):\n",
    "        return f\"{self.name} says Purr!\"\n",
    "\n",
    "cat1 = Cat(\"Whiskers\")\n",
    "print(cat1.bark())  # Output: Whiskers says Woof!\n",
    "print(cat1.purr())  # Output: Whiskers says Purr!\n"
   ]
  },
  {
   "cell_type": "code",
   "execution_count": null,
   "id": "d68adf71",
   "metadata": {},
   "outputs": [],
   "source": []
  },
  {
   "cell_type": "markdown",
   "id": "acc07bb5",
   "metadata": {},
   "source": [
    "Python Exceptions:\n",
    "\n",
    "Error Handling: try, except, and finally blocks to handle errors and exceptions gracefully."
   ]
  },
  {
   "cell_type": "code",
   "execution_count": 24,
   "id": "7cc993a3",
   "metadata": {},
   "outputs": [
    {
     "name": "stdout",
     "output_type": "stream",
     "text": [
      "Error: division by zero\n",
      "Cleanup code\n"
     ]
    }
   ],
   "source": [
    "try:\n",
    "    result = 10 / 0\n",
    "except ZeroDivisionError as e:\n",
    "    print(f\"Error: {e}\")\n",
    "finally:\n",
    "    print(\"Cleanup code\")\n"
   ]
  },
  {
   "cell_type": "code",
   "execution_count": 26,
   "id": "e57b2a58",
   "metadata": {},
   "outputs": [
    {
     "name": "stdout",
     "output_type": "stream",
     "text": [
      "Error: Variable is not defined\n"
     ]
    }
   ],
   "source": [
    "# when you try to acess a variable or function that has not been define\n",
    "\n",
    "try:\n",
    "    print(undefine_variable)\n",
    "except NameError as e:\n",
    "    print(\"Error: Variable is not defined\")\n",
    "    "
   ]
  },
  {
   "cell_type": "code",
   "execution_count": 27,
   "id": "ccc9a6af",
   "metadata": {},
   "outputs": [
    {
     "name": "stdout",
     "output_type": "stream",
     "text": [
      "Error: Type mismatch\n"
     ]
    }
   ],
   "source": [
    "# Perform an operation on object of inappropriate data type\n",
    "\n",
    "try:\n",
    "    results=\"5\"+10\n",
    "except TypeError as e:\n",
    "    print(\"Error: Type mismatch\")"
   ]
  },
  {
   "cell_type": "code",
   "execution_count": 30,
   "id": "1ccc0d60",
   "metadata": {},
   "outputs": [
    {
     "name": "stdout",
     "output_type": "stream",
     "text": [
      "Error: File not Found\n"
     ]
    }
   ],
   "source": [
    "# FileNotFoundError\n",
    "\n",
    "try:\n",
    "    with open(\"nonexistent.txt\", \"r\") as file:\n",
    "        content = file.read()\n",
    "except FileNotFoundError as e:\n",
    "    print(\"Error: File not Found\")"
   ]
  },
  {
   "cell_type": "code",
   "execution_count": 41,
   "id": "9bc015a2",
   "metadata": {},
   "outputs": [
    {
     "name": "stdout",
     "output_type": "stream",
     "text": [
      "Error: Index error\n"
     ]
    }
   ],
   "source": [
    "# How do you handle IndexError\n",
    "\n",
    "#IndexError is raised when you try to access an index that is outside the bounds of a sequence, such as a list or a string. To handle IndexError exceptions in your code, you can use a try-except block\n",
    "\n",
    "try:\n",
    "    l = [1,2,3,4]\n",
    "    print(f\"value at index 5 is {l[9]}\")\n",
    "except IndexError as e:\n",
    "    print(\"Error: Index error\")"
   ]
  },
  {
   "cell_type": "code",
   "execution_count": 43,
   "id": "1b8eb292",
   "metadata": {},
   "outputs": [
    {
     "name": "stdout",
     "output_type": "stream",
     "text": [
      "Error: key error\n"
     ]
    }
   ],
   "source": [
    "# How do you handle KeyError\n",
    "\n",
    "#KeyError is raised when you try to access a dictionary key that does not exist. To handle KeyError exceptions in your code, you can use a try-except block\n",
    "\n",
    "try:\n",
    "    my_dict = {\"name\": \"Alice\", \"age\": 30}\n",
    "    print(my_dict[\"address\"]) \n",
    "except KeyError as e:\n",
    "    print(f\"Error: key error\")\n"
   ]
  },
  {
   "cell_type": "markdown",
   "id": "4852a47b",
   "metadata": {},
   "source": [
    "ead and Write Files:\n",
    "\n",
    "File I/O: understand how to open, read, write, and close files in Python. Different file modes (e.g., 'r' for reading, 'w' for writing) will be covered."
   ]
  },
  {
   "cell_type": "code",
   "execution_count": null,
   "id": "676b4d7e",
   "metadata": {},
   "outputs": [],
   "source": [
    "#Example of reading from a file:\n",
    "with open(\"sample.txt\", \"r\") as file:\n",
    "    content = file.read()\n",
    "    print(content)"
   ]
  },
  {
   "cell_type": "code",
   "execution_count": null,
   "id": "92f809ab",
   "metadata": {},
   "outputs": [],
   "source": [
    "# Example of writing to a file:\n",
    "with open(\"output.txt\", \"w\") as file:\n",
    "    file.write(\"Hello, World!\")\n"
   ]
  },
  {
   "cell_type": "code",
   "execution_count": null,
   "id": "5d2a2421",
   "metadata": {},
   "outputs": [],
   "source": []
  },
  {
   "cell_type": "markdown",
   "id": "504006c8",
   "metadata": {},
   "source": [
    "Exercise 1: Data Preprocessing Class\n",
    "\n",
    "Create a class for data preprocessing tasks in a machine learning project, including cleaning, feature scaling, and encoding."
   ]
  },
  {
   "cell_type": "code",
   "execution_count": 33,
   "id": "3dcf02b2",
   "metadata": {},
   "outputs": [],
   "source": [
    "class DataPreprocessor:  #DataPreprocessor is a class\n",
    "    def __init__(self, data): #initializing and data is an argument\n",
    "        self.data = data\n",
    "    \n",
    "    def clean_data(self): #clean_data is a method\n",
    "        # Implement data cleaning logic here\n",
    "        pass\n",
    "    \n",
    "    def scale_features(self): #scale_features is a method\n",
    "        # Implement feature scaling logic here\n",
    "        pass\n",
    "    \n",
    "    def encode_categorical(self): #encode_categorical is a method\n",
    "        # Implement categorical encoding logic here\n",
    "        pass\n",
    "\n",
    "# Example usage:\n",
    "data = ...\n",
    "preprocessor = DataPreprocessor(data) #creating new preprocessor\n",
    "preprocessor.clean_data()\n",
    "preprocessor.scale_features()\n",
    "preprocessor.encode_categorical()\n"
   ]
  },
  {
   "cell_type": "code",
   "execution_count": null,
   "id": "3977768d",
   "metadata": {},
   "outputs": [],
   "source": []
  },
  {
   "cell_type": "markdown",
   "id": "a4ec16a3",
   "metadata": {},
   "source": [
    "Exercise 2: Machine Learning Models\n",
    "\n",
    "Implement classes for different machine learning algorithms with methods for training, prediction, and evaluation."
   ]
  },
  {
   "cell_type": "code",
   "execution_count": null,
   "id": "5c951035",
   "metadata": {},
   "outputs": [],
   "source": [
    "class LinearRegressionModel: #LinearRegressionModel is a class\n",
    "    def __init__(self): #initializing\n",
    "        pass\n",
    "    \n",
    "    def train(self, X, y): #train is a method\n",
    "        # Training logic for linear regression\n",
    "        pass\n",
    "    \n",
    "    def predict(self, X): #predict is a method\n",
    "        # Prediction logic for linear regression\n",
    "        pass\n",
    "    \n",
    "    def evaluate(self, X_test, y_test): #evaluate is a method\n",
    "        # Evaluation logic for linear regression\n",
    "        pass\n",
    "\n",
    "# Example usage:\n",
    "model = LinearRegressionModel() #creating new LinearRegressionModel\n",
    "model.train(X_train, y_train)\n",
    "predictions = model.predict(X_test)\n",
    "accuracy = model.evaluate(X_test, y_test)\n"
   ]
  },
  {
   "cell_type": "markdown",
   "id": "ee409caf",
   "metadata": {},
   "source": [
    "Exercise 3: Data Visualization Library\n",
    "\n",
    "Develop a class for creating custom data visualization functions and plots using libraries like Matplotlib or Seaborn."
   ]
  },
  {
   "cell_type": "code",
   "execution_count": 35,
   "id": "c009b1cd",
   "metadata": {},
   "outputs": [],
   "source": [
    "import matplotlib.pyplot as plt\n",
    "\n",
    "class DataVisualizer: #DataVisualizer is a class\n",
    "    def __init__(self, data): #initializing and data is an argument\n",
    "        self.data = data\n",
    "    \n",
    "    def plot_histogram(self, feature): #plot_histogram is a method\n",
    "        # Implement histogram plotting logic\n",
    "        pass\n",
    "    \n",
    "    def plot_scatter(self, x, y): #plot_scatter is a method\n",
    "        # Implement scatter plot logic\n",
    "        pass\n",
    "\n",
    "# Example usage:\n",
    "data = ...\n",
    "visualizer = DataVisualizer(data) #creating new DataVisualizer\n",
    "visualizer.plot_histogram('Age')\n",
    "visualizer.plot_scatter('Income', 'Spending')\n"
   ]
  },
  {
   "cell_type": "code",
   "execution_count": null,
   "id": "9a53df2e",
   "metadata": {},
   "outputs": [],
   "source": []
  },
  {
   "cell_type": "markdown",
   "id": "1f704e21",
   "metadata": {},
   "source": [
    "Exercise 4: Data Exploration Toolkit\n",
    "\n",
    "Create a class to perform exploratory data analysis (EDA) tasks, such as generating summary statistics, histograms, and correlation matrices."
   ]
  },
  {
   "cell_type": "code",
   "execution_count": null,
   "id": "0a085670",
   "metadata": {},
   "outputs": [],
   "source": [
    "import pandas as pd\n",
    "\n",
    "class DataExplorer:\n",
    "    def __init__(self, data):\n",
    "        self.data = data\n",
    "    \n",
    "    def summary_statistics(self): \n",
    "        # Calculate summary statistics\n",
    "        return self.data.describe()\n",
    "    \n",
    "    def plot_histograms(self):\n",
    "        # Generate histograms for each numeric feature\n",
    "        self.data.hist()\n",
    "        plt.show()\n",
    "    \n",
    "    def correlation_matrix(self):\n",
    "        # Calculate and display correlation matrix\n",
    "        return self.data.corr()\n",
    "\n",
    "# Example usage:\n",
    "data = pd.read_csv('data.csv')\n",
    "explorer = DataExplorer(data)\n",
    "summary = explorer.summary_statistics()\n",
    "explorer.plot_histograms()\n",
    "correlation = explorer.correlation_matrix()\n"
   ]
  },
  {
   "cell_type": "code",
   "execution_count": null,
   "id": "9515e714",
   "metadata": {},
   "outputs": [],
   "source": []
  },
  {
   "cell_type": "markdown",
   "id": "bed63fef",
   "metadata": {},
   "source": [
    "xercise 5: Time Series Forecasting Model\n",
    "\n",
    "Build an OOP-based time series forecasting model with classes for data preprocessing, model training, and prediction."
   ]
  },
  {
   "cell_type": "code",
   "execution_count": null,
   "id": "f04d88da",
   "metadata": {},
   "outputs": [],
   "source": []
  },
  {
   "cell_type": "code",
   "execution_count": null,
   "id": "c7eaa876",
   "metadata": {},
   "outputs": [],
   "source": [
    "class TimeSeriesForecastingModel:\n",
    "    def __init__(self, data):\n",
    "        self.data = data\n",
    "    \n",
    "    def preprocess_data(self):\n",
    "        # Implement data preprocessing for time series data\n",
    "        pass\n",
    "    \n",
    "    def train_model(self):\n",
    "        # Train a forecasting model (e.g., ARIMA, LSTM)\n",
    "        pass\n",
    "    \n",
    "    def forecast(self, future_data):\n",
    "        # Generate forecasts for future data points\n",
    "        pass\n",
    "\n",
    "# Example usage:\n",
    "time_series_data = ...\n",
    "forecasting_model = TimeSeriesForecastingModel(time_series_data)\n",
    "forecasting_model.preprocess_data()\n",
    "forecasting_model.train_model()\n",
    "future_forecasts = forecasting_model.forecast(future_data)\n"
   ]
  },
  {
   "cell_type": "code",
   "execution_count": null,
   "id": "b72775da",
   "metadata": {},
   "outputs": [],
   "source": []
  },
  {
   "cell_type": "markdown",
   "id": "a78adf54",
   "metadata": {},
   "source": [
    "xercise 6: Natural Language Processing (NLP) Toolkit\n",
    "\n",
    "Design a class for text processing, including tokenization, sentiment analysis, and text classification using NLP libraries."
   ]
  },
  {
   "cell_type": "code",
   "execution_count": null,
   "id": "9fd62736",
   "metadata": {},
   "outputs": [],
   "source": [
    "import nltk\n",
    "from textblob import TextBlob\n",
    "\n",
    "class NLPToolkit:\n",
    "    def __init__(self, text):\n",
    "        self.text = text\n",
    "    \n",
    "    def tokenize(self):\n",
    "        # Tokenize the text\n",
    "        return nltk.word_tokenize(self.text)\n",
    "    \n",
    "    def analyze_sentiment(self):\n",
    "        # Perform sentiment analysis\n",
    "        blob = TextBlob(self.text)\n",
    "        sentiment = blob.sentiment\n",
    "        return sentiment\n",
    "    \n",
    "    def classify_text(self, model):\n",
    "        # Classify text using a pre-trained model\n",
    "        pass\n",
    "\n",
    "# Example usage:\n",
    "text = \"This is a positive example.\"\n",
    "nlp_toolkit = NLPToolkit(text)\n",
    "tokens = nlp_toolkit.tokenize()\n",
    "sentiment = nlp_toolkit.analyze_sentiment()\n"
   ]
  },
  {
   "cell_type": "code",
   "execution_count": null,
   "id": "95d3fc6e",
   "metadata": {},
   "outputs": [],
   "source": []
  },
  {
   "cell_type": "markdown",
   "id": "a1fc7d41",
   "metadata": {},
   "source": [
    "Exercise 7: Cluster Analysis Class\n",
    "\n",
    "Develop a class for clustering algorithms like K-Means, Hierarchical Clustering, and DBSCAN, with methods for fitting and visualizing clusters."
   ]
  },
  {
   "cell_type": "code",
   "execution_count": null,
   "id": "ef3b7c8e",
   "metadata": {},
   "outputs": [],
   "source": []
  },
  {
   "cell_type": "code",
   "execution_count": null,
   "id": "f60a329f",
   "metadata": {},
   "outputs": [],
   "source": [
    "from sklearn.cluster import KMeans\n",
    "import matplotlib.pyplot as plt\n",
    "\n",
    "class ClusterAnalyzer:\n",
    "    def __init__(self, data):\n",
    "        self.data = data\n",
    "    \n",
    "    def fit_kmeans(self, n_clusters):\n",
    "        # Fit a K-Means clustering model\n",
    "        model = KMeans(n_clusters=n_clusters)\n",
    "        model.fit(self.data)\n",
    "        return model.labels_\n",
    "    \n",
    "    def plot_clusters(self, labels):\n",
    "        # Visualize clusters\n",
    "        plt.scatter(self.data[:, 0], self.data[:, 1], c=labels)\n",
    "        plt.show()\n",
    "\n",
    "# Example usage:\n",
    "data = ...\n",
    "analyzer = ClusterAnalyzer(data)\n",
    "cluster_labels = analyzer.fit_kmeans(3)\n",
    "analyzer.plot_clusters(cluster_labels)\n"
   ]
  },
  {
   "cell_type": "code",
   "execution_count": null,
   "id": "285b7353",
   "metadata": {},
   "outputs": [],
   "source": []
  },
  {
   "cell_type": "markdown",
   "id": "4edc4194",
   "metadata": {},
   "source": [
    "Exercise 8: Custom Data Structures\n",
    "\n",
    "Implement custom data structures like a binary search tree or a graph for specific data science tasks."
   ]
  },
  {
   "cell_type": "code",
   "execution_count": null,
   "id": "b51a9d03",
   "metadata": {},
   "outputs": [],
   "source": [
    "class BinarySearchTree:\n",
    "    def __init__(self, value):\n",
    "        self.value = value\n",
    "        self.left = None\n",
    "        self.right = None\n",
    "    \n",
    "    def insert(self, value):\n",
    "        # Insert a value into the BST\n",
    "        pass\n",
    "    \n",
    "    def search(self, value):\n",
    "        # Search for a value in the BST\n",
    "        pass\n",
    "\n",
    "# Example usage:\n",
    "bst = BinarySearchTree(10)\n",
    "bst.insert(5)\n",
    "bst.insert(15)\n",
    "result = bst.search(5)\n"
   ]
  },
  {
   "cell_type": "code",
   "execution_count": null,
   "id": "285acd22",
   "metadata": {},
   "outputs": [],
   "source": []
  },
  {
   "cell_type": "markdown",
   "id": "99ada386",
   "metadata": {},
   "source": [
    "Exercise 9: Feature Engineering Class\n",
    "\n",
    "Create a class for feature engineering techniques such as feature selection, dimensionality reduction, and feature extraction."
   ]
  },
  {
   "cell_type": "code",
   "execution_count": null,
   "id": "1fb45b30",
   "metadata": {},
   "outputs": [],
   "source": [
    "from sklearn.feature_selection import SelectKBest\n",
    "from sklearn.decomposition import PCA\n",
    "\n",
    "class FeatureEngineer:\n",
    "    def __init__(self, data):\n",
    "        self.data = data\n",
    "    \n",
    "    def select_features(self, k):\n",
    "        # Select top k features using SelectKBest\n",
    "        pass\n",
    "    \n",
    "    def reduce_dimensionality(self, n_components):\n",
    "        # Perform dimensionality reduction using PCA\n",
    "        pass\n",
    "\n",
    "# Example usage:\n",
    "data = ...\n",
    "engineer = FeatureEngineer(data)\n",
    "selected_features = engineer.select_features(5)\n",
    "reduced_data = engineer.reduce_dimensionality(3)\n"
   ]
  },
  {
   "cell_type": "code",
   "execution_count": null,
   "id": "f402c2f5",
   "metadata": {},
   "outputs": [],
   "source": []
  },
  {
   "cell_type": "markdown",
   "id": "c83711de",
   "metadata": {},
   "source": [
    "Exercise 10: Neural Network Framework\n",
    "\n",
    "Build an OOP-based neural network framework with classes representing layers, activation functions, and optimization algorithms."
   ]
  },
  {
   "cell_type": "code",
   "execution_count": null,
   "id": "ffb6dd43",
   "metadata": {},
   "outputs": [],
   "source": []
  },
  {
   "cell_type": "code",
   "execution_count": null,
   "id": "fc55e65e",
   "metadata": {},
   "outputs": [],
   "source": [
    "import numpy as np\n",
    "import tensorflow as tf\n",
    "\n",
    "class NeuralNetwork:\n",
    "    def __init__(self, input_size, hidden_units, output_size):\n",
    "        self.input_size = input_size\n",
    "        self.hidden_units = hidden_units\n",
    "        self.output_size = output_size\n",
    "        self.model = self.build_model()\n",
    "    \n",
    "    def build_model(self):\n",
    "        # Build\n"
   ]
  },
  {
   "cell_type": "markdown",
   "id": "103fce8b",
   "metadata": {},
   "source": [
    "Exercise 1: Data Preprocessing Class"
   ]
  },
  {
   "cell_type": "code",
   "execution_count": null,
   "id": "da523f31",
   "metadata": {},
   "outputs": [],
   "source": [
    "class DataPreprocessor:\n",
    "    def __init__(self, data):\n",
    "        self.data = data\n",
    "    \n",
    "    def clean_data(self):\n",
    "        # Example data cleaning: remove missing values\n",
    "        self.data = self.data.dropna()\n",
    "    \n",
    "    def scale_features(self):\n",
    "        # Example feature scaling: min-max scaling\n",
    "        self.data['feature1'] = (self.data['feature1'] - self.data['feature1'].min()) / (self.data['feature1'].max() - self.data['feature1'].min())\n",
    "    \n",
    "    def encode_categorical(self):\n",
    "        # Example categorical encoding: one-hot encoding\n",
    "        self.data = pd.get_dummies(self.data, columns=['category'])\n",
    "\n",
    "# Dummy data\n",
    "import pandas as pd\n",
    "data = pd.DataFrame({\n",
    "    'feature1': [2.0, 3.0, 5.0, 1.0, 4.0],\n",
    "    'feature2': [10.0, 15.0, 20.0, 5.0, 18.0],\n",
    "    'category': ['A', 'B', 'A', 'C', 'B']\n",
    "})\n",
    "\n",
    "preprocessor = DataPreprocessor(data)\n",
    "preprocessor.clean_data()\n",
    "preprocessor.scale_features()\n",
    "preprocessor.encode_categorical()\n",
    "\n",
    "print(preprocessor.data)\n"
   ]
  },
  {
   "cell_type": "code",
   "execution_count": null,
   "id": "f9c7d908",
   "metadata": {},
   "outputs": [],
   "source": []
  },
  {
   "cell_type": "markdown",
   "id": "b4ec6111",
   "metadata": {},
   "source": [
    "Exercise 2: Machine Learning Models"
   ]
  },
  {
   "cell_type": "code",
   "execution_count": null,
   "id": "54da619f",
   "metadata": {},
   "outputs": [],
   "source": [
    "from sklearn.linear_model import LinearRegression\n",
    "from sklearn.metrics import mean_squared_error\n",
    "\n",
    "class LinearRegressionModel:\n",
    "    def __init__(self):\n",
    "        self.model = LinearRegression()\n",
    "    \n",
    "    def train(self, X, y):\n",
    "        self.model.fit(X, y)\n",
    "    \n",
    "    def predict(self, X):\n",
    "        return self.model.predict(X)\n",
    "    \n",
    "    def evaluate(self, X_test, y_test):\n",
    "        y_pred = self.predict(X_test)\n",
    "        return mean_squared_error(y_test, y_pred)\n",
    "\n",
    "# Dummy data\n",
    "import numpy as np\n",
    "X_train = np.array([[1.0], [2.0], [3.0], [4.0]])\n",
    "y_train = np.array([2.0, 4.0, 6.0, 8.0])\n",
    "X_test = np.array([[5.0], [6.0]])\n",
    "y_test = np.array([10.0, 12.0])\n",
    "\n",
    "model = LinearRegressionModel()\n",
    "model.train(X_train, y_train)\n",
    "predictions = model.predict(X_test)\n",
    "mse = model.evaluate(X_test, y_test)\n",
    "\n",
    "print(\"Predictions:\", predictions)\n",
    "print(\"Mean Squared Error:\", mse)\n"
   ]
  },
  {
   "cell_type": "markdown",
   "id": "3eaf3b65",
   "metadata": {},
   "source": [
    "Exercise 4: Data Exploration Toolkit"
   ]
  },
  {
   "cell_type": "code",
   "execution_count": null,
   "id": "84fba8b5",
   "metadata": {},
   "outputs": [],
   "source": [
    "class DataExplorer:\n",
    "    def __init__(self, data):\n",
    "        self.data = data\n",
    "    \n",
    "    def summary_statistics(self):\n",
    "        return self.data.describe()\n",
    "    \n",
    "    def plot_histograms(self):\n",
    "        self.data.hist()\n",
    "        plt.show()\n",
    "    \n",
    "    def correlation_matrix(self):\n",
    "        return self.data.corr()\n",
    "\n",
    "# Dummy data\n",
    "data = pd.DataFrame({\n",
    "    'feature1': [1.0, 2.0, 3.0, 4.0, 5.0],\n",
    "    'feature2': [10.0, 15.0, 20.0, 25.0, 30.0],\n",
    "    'target': [2.0, 4.0, 6.0, 8.0, 10.0]\n",
    "})\n",
    "\n",
    "explorer = DataExplorer(data)\n",
    "summary = explorer.summary_statistics()\n",
    "explorer.plot_histograms()\n",
    "correlation = explorer.correlation_matrix()\n",
    "\n",
    "print(\"Summary Statistics:\\n\", summary)\n",
    "print(\"Correlation Matrix:\\n\", correlation)\n"
   ]
  },
  {
   "cell_type": "code",
   "execution_count": null,
   "id": "646086f9",
   "metadata": {},
   "outputs": [],
   "source": []
  },
  {
   "cell_type": "markdown",
   "id": "04b45259",
   "metadata": {},
   "source": [
    "Exercise 11: Error Handling for Data Loading\n",
    "\n",
    "Create a class for loading data from various sources (e.g., CSV, JSON, database) and implement error handling for file not found, format errors, and database connection issues."
   ]
  },
  {
   "cell_type": "code",
   "execution_count": null,
   "id": "504c458e",
   "metadata": {},
   "outputs": [],
   "source": [
    "class DataLoader:\n",
    "    def __init__(self, source):\n",
    "        self.source = source\n",
    "    \n",
    "    def load_data(self):\n",
    "        try:\n",
    "            if self.source.endswith('.csv'):\n",
    "                data = pd.read_csv(self.source)\n",
    "            elif self.source.endswith('.json'):\n",
    "                data = pd.read_json(self.source)\n",
    "            else:\n",
    "                raise ValueError(\"Unsupported file format\")\n",
    "            return data\n",
    "        except FileNotFoundError as e:\n",
    "            print(f\"File not found: {e}\")\n",
    "        except pd.errors.ParserError as e:\n",
    "            print(f\"Data format error: {e}\")\n",
    "        except Exception as e:\n",
    "            print(f\"An error occurred: {e}\")\n",
    "            # Log the error\n",
    "\n",
    "# Example usage:\n",
    "data_loader = DataLoader(\"data.csv\")\n",
    "loaded_data = data_loader.load_data()\n"
   ]
  },
  {
   "cell_type": "markdown",
   "id": "0574f8c7",
   "metadata": {},
   "source": [
    "Exercise 12: Custom Exception Handling\n",
    "\n",
    "Create a custom exception class for handling specific errors related to data validation in a data preprocessing pipeline."
   ]
  },
  {
   "cell_type": "code",
   "execution_count": null,
   "id": "dde4f981",
   "metadata": {},
   "outputs": [],
   "source": [
    "class DataValidationError(Exception):\n",
    "    def __init__(self, message):\n",
    "        super().__init__(message)\n",
    "\n",
    "class DataPreprocessor:\n",
    "    def __init__(self, data):\n",
    "        self.data = data\n",
    "    \n",
    "    def validate_data(self):\n",
    "        if 'target' not in self.data.columns:\n",
    "            raise DataValidationError(\"Missing target column 'target'\")\n",
    "        if len(self.data) < 10:\n",
    "            raise DataValidationError(\"Insufficient data for preprocessing\")\n",
    "    \n",
    "    def preprocess_data(self):\n",
    "        try:\n",
    "            self.validate_data()\n",
    "            # Perform data preprocessing\n",
    "        except DataValidationError as e:\n",
    "            print(f\"Data validation error: {e}\")\n",
    "\n",
    "# Example usage:\n",
    "data = pd.DataFrame({\n",
    "    'feature1': [1.0, 2.0, 3.0, 4.0, 5.0],\n",
    "    'feature2': [10.0, 15.0, 20.0, 25.0, 30.0]\n",
    "})\n",
    "\n",
    "preprocessor = DataPreprocessor(data)\n",
    "preprocessor.preprocess_data()\n"
   ]
  },
  {
   "cell_type": "markdown",
   "id": "d0dd6a6c",
   "metadata": {},
   "source": [
    "Exercise 13: Database Connection Handling\n",
    "\n",
    "Create a class for connecting to a database and handle exceptions related to database connection errors."
   ]
  },
  {
   "cell_type": "code",
   "execution_count": null,
   "id": "902c851f",
   "metadata": {},
   "outputs": [],
   "source": [
    "import sqlite3\n",
    "\n",
    "class DatabaseConnector:\n",
    "    def __init__(self, database_file):\n",
    "        self.database_file = database_file\n",
    "    \n",
    "    def connect(self):\n",
    "        try:\n",
    "            connection = sqlite3.connect(self.database_file)\n",
    "            return connection\n",
    "        except sqlite3.Error as e:\n",
    "            print(f\"Database connection error: {e}\")\n",
    "    \n",
    "    def execute_query(self, query):\n",
    "        try:\n",
    "            connection = self.connect()\n",
    "            cursor = connection.cursor()\n",
    "            cursor.execute(query)\n",
    "            return cursor.fetchall()\n",
    "        except sqlite3.Error as e:\n",
    "            print(f\"Database error: {e}\")\n",
    "        finally:\n",
    "            if connection:\n",
    "                connection.close()\n",
    "\n",
    "# Example usage:\n",
    "db_connector = DatabaseConnector(\"mydb.db\")\n",
    "query = \"SELECT * FROM mytable\"\n",
    "results = db_connector.execute_query(query)\n"
   ]
  },
  {
   "cell_type": "code",
   "execution_count": null,
   "id": "dc68032a",
   "metadata": {},
   "outputs": [],
   "source": []
  },
  {
   "cell_type": "code",
   "execution_count": null,
   "id": "36e301e5",
   "metadata": {},
   "outputs": [],
   "source": []
  }
 ],
 "metadata": {
  "kernelspec": {
   "display_name": "Python 3 (ipykernel)",
   "language": "python",
   "name": "python3"
  },
  "language_info": {
   "codemirror_mode": {
    "name": "ipython",
    "version": 3
   },
   "file_extension": ".py",
   "mimetype": "text/x-python",
   "name": "python",
   "nbconvert_exporter": "python",
   "pygments_lexer": "ipython3",
   "version": "3.9.7"
  }
 },
 "nbformat": 4,
 "nbformat_minor": 5
}
