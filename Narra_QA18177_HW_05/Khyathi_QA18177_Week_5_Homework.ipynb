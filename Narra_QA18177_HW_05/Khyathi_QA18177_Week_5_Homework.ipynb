{
 "cells": [
  {
   "cell_type": "markdown",
   "id": "7b64915d",
   "metadata": {},
   "source": [
    "## I) Analyzing Sales Data**\n",
    "\n",
    "Let's assume you have a dataset containing sales records for an e-commerce platform. You want to calculate the total revenue for each product category, handle potential exceptions in the data, and write the results to a CSV file."
   ]
  },
  {
   "cell_type": "code",
   "execution_count": null,
   "id": "4267eb68",
   "metadata": {},
   "outputs": [],
   "source": [
    "import csv\n",
    "\n",
    "# \n",
    "sales_data = [\n",
    "    {\"Product\": \"Laptop\", \"Category\": \"Electronics\", \"Revenue\": 1500},\n",
    "    {\"Product\": \"Tablet\", \"Category\": \"Electronics\", \"Revenue\": 500},\n",
    "    {\"Product\": \"Shirt\", \"Category\": \"Apparel\", \"Revenue\": 30},\n",
    "    # More sales data...\n",
    "]\n",
    "\n",
    "#\n",
    "class Product:\n",
    "    def __init__(self, product_name, category, revenue):\n",
    "        self.product_name = product_name\n",
    "        self.category = category\n",
    "        self.revenue = revenue\n",
    "\n",
    "# \n",
    "products = [Product(item[\"Product\"], item[\"Category\"], item[\"Revenue\"]) for item in sales_data]\n",
    "\n",
    "# \n",
    "category_revenue = {}\n",
    "\n",
    "# \n",
    "for product in products:\n",
    "    category = product.category\n",
    "    revenue = product.revenue\n",
    "    category_revenue[category] = category_revenue.get(category, 0) + revenue\n",
    "\n",
    "# \n",
    "try:\n",
    "    # \n",
    "    with open(\"category_revenue.csv\", mode=\"w\", newline=\"\") as file:\n",
    "        writer = csv.writer(file)\n",
    "        \n",
    "        # Write headers\n",
    "        writer.writerow([\"Category\", \"Total Revenue\"])\n",
    "        \n",
    "        # \n",
    "        for category, revenue in category_revenue.items():\n",
    "            writer.writerow([category, revenue])\n",
    "    print(\"Data written to category_revenue.csv successfully.\")\n",
    "except IOError:\n",
    "    print(\"An error occurred while writing the data to the file.\")\n",
    "except Exception as e:\n",
    "    print(f\"An unexpected error occurred: {str(e)}\")\n"
   ]
  },
  {
   "cell_type": "markdown",
   "id": "46f5da57",
   "metadata": {},
   "source": [
    "Question 1: What does this code do, and what is its purpose?"
   ]
  },
  {
   "cell_type": "code",
   "execution_count": null,
   "id": "3d9f42a3",
   "metadata": {},
   "outputs": [],
   "source": [
    "import csv\n"
   ]
  },
  {
   "cell_type": "markdown",
   "id": "76e70e1f",
   "metadata": {},
   "source": [
    "#### import csv makes the functions in that code to read from csv file or to write to csv file."
   ]
  },
  {
   "cell_type": "markdown",
   "id": "bb5ba7d6",
   "metadata": {},
   "source": [
    "Question 2: What is the purpose of the sales_data list, and what does it contain?"
   ]
  },
  {
   "cell_type": "code",
   "execution_count": null,
   "id": "594dbcfe",
   "metadata": {},
   "outputs": [],
   "source": [
    "# \n",
    "sales_data = [\n",
    "    {\"Product\": \"Laptop\", \"Category\": \"Electronics\", \"Revenue\": 1500},\n",
    "    {\"Product\": \"Tablet\", \"Category\": \"Electronics\", \"Revenue\": 500},\n",
    "    {\"Product\": \"Shirt\", \"Category\": \"Apparel\", \"Revenue\": 30},\n",
    "    # More sales data...\n",
    "]\n"
   ]
  },
  {
   "cell_type": "markdown",
   "id": "557e05dd",
   "metadata": {},
   "source": [
    "#### It is a dictionary which contains information regarding the sales data\n",
    "#### Here Product, Category and Revenue are the keys and has associated values for each "
   ]
  },
  {
   "cell_type": "markdown",
   "id": "d7edf273",
   "metadata": {},
   "source": [
    "Question 3: What is the purpose of the Product class?"
   ]
  },
  {
   "cell_type": "code",
   "execution_count": null,
   "id": "f226a5f4",
   "metadata": {},
   "outputs": [],
   "source": [
    "# \n",
    "class Product:\n",
    "    def __init__(self, product_name, category, revenue):\n",
    "        self.product_name = product_name\n",
    "        self.category = category\n",
    "        self.revenue = revenue\n"
   ]
  },
  {
   "cell_type": "markdown",
   "id": "5fc7a9a8",
   "metadata": {},
   "source": [
    "#### Here Product is a class which is used to create instance of products and then initializing the Product class and passing the arguments"
   ]
  },
  {
   "cell_type": "markdown",
   "id": "67d7b111",
   "metadata": {},
   "source": [
    "Question 4: What does this line of code do, and why is it used?"
   ]
  },
  {
   "cell_type": "code",
   "execution_count": null,
   "id": "72e42692",
   "metadata": {},
   "outputs": [],
   "source": [
    "# \n",
    "products = [Product(item[\"Product\"], item[\"Category\"], item[\"Revenue\"]) for item in sales_data]\n"
   ]
  },
  {
   "cell_type": "markdown",
   "id": "107459e2",
   "metadata": {},
   "source": [
    "#### Here new list called products is been created where each item in sales_data creates a new instance of Product"
   ]
  },
  {
   "cell_type": "markdown",
   "id": "aca62ba5",
   "metadata": {},
   "source": [
    "Question 5: What is the purpose of the category_revenue dictionary, and what does it store?"
   ]
  },
  {
   "cell_type": "code",
   "execution_count": null,
   "id": "5183117c",
   "metadata": {},
   "outputs": [],
   "source": [
    "# \n",
    "category_revenue = {}\n"
   ]
  },
  {
   "cell_type": "markdown",
   "id": "1d5d59d1",
   "metadata": {},
   "source": [
    "#### It is an empty dictionary which is created to store the information regarding the category_revenue further"
   ]
  },
  {
   "cell_type": "markdown",
   "id": "3d083325",
   "metadata": {},
   "source": [
    "Question 6: What does the following block of code do, and why is it important?"
   ]
  },
  {
   "cell_type": "code",
   "execution_count": null,
   "id": "a0a29da6",
   "metadata": {},
   "outputs": [],
   "source": [
    "# \n",
    "for product in products:\n",
    "    category = product.category\n",
    "    revenue = product.revenue\n",
    "    category_revenue[category] = category_revenue.get(category, 0) + revenue\n"
   ]
  },
  {
   "cell_type": "markdown",
   "id": "1afca3a4",
   "metadata": {},
   "source": [
    "#### It is used to calculate the total revenue for each product category using the products list and category_revenue dictionary"
   ]
  },
  {
   "cell_type": "markdown",
   "id": "aea5bfa7",
   "metadata": {},
   "source": [
    "Question 7: What is the purpose of the following code block, and how does it help ensure code reliability?"
   ]
  },
  {
   "cell_type": "code",
   "execution_count": null,
   "id": "7a2369b5",
   "metadata": {},
   "outputs": [],
   "source": [
    "# \n",
    "try:\n",
    "    # \n",
    "    with open(\"category_revenue.csv\", mode=\"w\", newline=\"\") as file:\n",
    "        writer = csv.writer(file)\n",
    "        \n",
    "        # Write headers\n",
    "        writer.writerow([\"Category\", \"Total Revenue\"])\n",
    "        \n",
    "        # Write data\n",
    "        for category, revenue in category_revenue.items():\n",
    "            writer.writerow([category, revenue])\n",
    "    print(\"Data written to category_revenue.csv successfully.\")\n",
    "except IOError:\n",
    "    print(\"An error occurred while writing the data to the file.\")\n",
    "except Exception as e:\n",
    "    print(f\"An unexpected error occurred: {str(e)}\")\n"
   ]
  },
  {
   "cell_type": "markdown",
   "id": "a5ce4973",
   "metadata": {},
   "source": [
    "#### It represents writing data from category_revenue dictionary to a csv file category_revenue.csv\n",
    "#### It opens the category_revenue.csv file in write mode and headers for Category and Total Revenue are created\n",
    "#### It iterates over the items in the category_revenue dictionary and writes each category and its total revenue in the CSV file\n",
    "#### If everything runs correctly then \"Data written to category_revenue.csv successfully.\" gets printed else exceptions will be thrown\n"
   ]
  },
  {
   "cell_type": "markdown",
   "id": "c507fac4",
   "metadata": {},
   "source": [
    "## III) Fill the missing code block "
   ]
  },
  {
   "cell_type": "code",
   "execution_count": 1,
   "id": "5367c87c",
   "metadata": {},
   "outputs": [
    {
     "name": "stdout",
     "output_type": "stream",
     "text": [
      "Data written to category_revenue.csv successfully.\n"
     ]
    }
   ],
   "source": [
    "import csv  #  import the CSV module\n",
    "\n",
    "# \n",
    "sales_data = [\n",
    "    {\"Product\": \"Laptop\", \"Category\": \"Electronics\", \"Revenue\": 1500},\n",
    "    {\"Product\": \"Tablet\", \"Category\": \"Electronics\", \"Revenue\": 500},\n",
    "    {\"Product\": \"Shirt\", \"Category\": \"Apparel\", \"Revenue\": 30},\n",
    "    # More sales data...\n",
    "]\n",
    "\n",
    "# \n",
    "class Product:\n",
    "    def __init__(self, product_name, category, revenue):\n",
    "        self.product_name = product_name\n",
    "        self.category = category\n",
    "        self.revenue = revenue\n",
    "\n",
    "# \n",
    "products = [Product(item[\"Product\"], item[\"Category\"], item[\"Revenue\"]) for item in sales_data]\n",
    "\n",
    "# \n",
    "category_revenue = {}\n",
    "\n",
    "# \n",
    "for product in products:\n",
    "    # Extract the category and revenue from the product object\n",
    "    category = product.category\n",
    "    revenue = product.revenue\n",
    "    \n",
    "    # Update the category_revenue dictionary (fill in the code to update the dictionary)\n",
    "    if category not in category_revenue:\n",
    "        category_revenue[category]=revenue\n",
    "    else:\n",
    "        category_revenue[category]+=revenue\n",
    "l=[]\n",
    "for x in category_revenue:\n",
    "    l.append({'Category':x,'Total Revenue':category_revenue[x]})\n",
    "\n",
    "# \n",
    "try:\n",
    "    # Open a CSV file for writing (fill in the file handling code)\n",
    "    with open(\"category_revenue.csv\", mode=\"w\", newline=\"\") as file:\n",
    "        writer = csv.writer(file)\n",
    "        \n",
    "        # Write headers\n",
    "        writer.writerow([\"Category\", \"Total Revenue\"])\n",
    "        \n",
    "        # Write data (fill in the code to write data)\n",
    "    \n",
    "    print(\"Data written to category_revenue.csv successfully.\")\n",
    "except IOError:\n",
    "    print(\"An error occurred while writing the data to the file.\")\n",
    "except Exception as e:\n",
    "    print(f\"An unexpected error occurred: {str(e)}\")\n"
   ]
  },
  {
   "cell_type": "markdown",
   "id": "2083792f",
   "metadata": {},
   "source": [
    "\n",
    "\n",
    "1. What Python module is imported at the beginning of the code, and why is it necessary for this task?\n",
    "\n",
    "2. How is the sales data represented in the code, and what are its components?\n",
    "\n",
    "3.  Explain the purpose of the `Product` class in this code.\n",
    "   - What attributes does each `Product` object have, and how are they initialized?\n",
    "\n",
    "4. How is a list of `Product` objects created from the `sales_data` list using list comprehension?\n",
    "\n",
    "5. Describe the process of calculating the total revenue per category. What is the role of the `category_revenue` dictionary?\n",
    "\n",
    "6. Inside the loop for calculating total revenue, what condition is checked for each `Product` object?\n",
    "   - How is the `category_revenue` dictionary updated based on the condition?\n",
    "\n",
    "7. \n",
    "   - Why is exception handling important in this code?\n",
    "   - What types of exceptions are handled in the code, and why are they relevant to file operations?\n",
    "\n",
    "8. \n",
    "   - How is the CSV file \"category_revenue.csv\" created and opened for writing?\n",
    "   - Describe the steps involved in writing data to the CSV file, including headers and data rows.\n",
    "\n",
    "9.\n",
    "   - What message is printed to the console upon successful completion of writing data to the CSV file?\n",
    "   - What messages are displayed in case of file-related errors or unexpected exceptions?\n",
    "10. Summary\n",
    "    - Summarize the main objective of this code, including the input data, processing steps, and the final output.\n",
    "\n"
   ]
  },
  {
   "cell_type": "markdown",
   "id": "90ce117a",
   "metadata": {},
   "source": [
    "\n",
    "#### 1.The CSV file is imported inorder to read the data from the CSV file or to write to it.\n",
    "\n",
    "#### 2.It is a list of dictionaries which has key value pairs of sales related data\n",
    "\n",
    "#### 3.The product class is creating objects. It has three attributes product_name,category,revenue,they are initialized when the product object is created .\n",
    "\n",
    "#### 4. [Product(item[\"Product\"], item[\"Category\"], item[\"Revenue\"]) for item in sales_data] is used to create list of product objects from sales_data.\n",
    "\n",
    "#### 5.The total revenue per category is calculated by adding the revenue and is stored in category_revenue. \n",
    "\n",
    "#### 6. The condition being checked for each Product object, whether the category of that product (product.category) already exists as a key in the category_revenue dictionary.\n",
    "\n",
    "#### 7.For program to not stop execution and handle the errors, Exception handling is important. Two types of exceptions are handled in this code they are IO error and exception.\n",
    "\n",
    "#### 8.It opens the CSV file \"category_revenue.csv\" for writing and then writes data to it, including headers and data rows\n",
    "\n",
    "#### 9.Upon successful completion \"Data written to category_revenue.csv successfully.\" is printed and \"An error occurred while writing the data to the file.\" is printed in case of IO error and \"An unexpected error occurred: {str(e)}\" is printed  incase of exception \n",
    "\n",
    "#### 10.It process sales data, calculate the total revenue for each product category, and then write this classified data to a CSV file.\n",
    "\n",
    "\n"
   ]
  },
  {
   "cell_type": "markdown",
   "id": "23d22691",
   "metadata": {},
   "source": [
    "## III) Student Record Processing"
   ]
  },
  {
   "cell_type": "markdown",
   "id": "216c1739",
   "metadata": {},
   "source": [
    "\n",
    "Objective: Process a CSV file containing student records and perform data analysis tasks using Python, including data filtering, calculation, and error handling.\n",
    "\n",
    "Instructions:\n",
    "\n",
    "1. Create a `Student` class with the following attributes: `student_id`, `name`, `score`, and `grade`. Implement a constructor to initialize these attributes.\n",
    "\n",
    "2. Read the data from the CSV file \"student_records.csv\" into a list of `Student` objects. The CSV file contains columns: \"Student ID\", \"Name\", and \"Score\". Calculate the grade for each student based on the following criteria:\n",
    "   - A: Score >= 90\n",
    "   - B: 80 <= Score < 90\n",
    "   - C: 70 <= Score < 80\n",
    "   - D: 60 <= Score < 70\n",
    "   - F: Score < 60\n",
    "\n",
    "3. Use list comprehension to create a list of students who received an \"A\" grade.\n",
    "\n",
    "4. Calculate the average score for all students.\n",
    "\n",
    "5. Handle exceptions: Implement error handling for file-related exceptions when reading the CSV file and for value-related exceptions when calculating grades (e.g., invalid scores). Print informative error messages for each exception.\n",
    "\n",
    "\n",
    "\n",
    "\n",
    "\n"
   ]
  },
  {
   "cell_type": "markdown",
   "id": "b6db1e9b",
   "metadata": {},
   "source": [
    " - Complete the missing parts of the code to define the `Student` class, read data from the CSV file, calculate grades, create a list of \"A\" grade students, and calculate the average score.\n",
    " \n",
    "- Implement error handling for file-related and value-related exceptions as described in the instructions.\n",
    "\n",
    "- Test the code with the provided \"student_records.csv\" file or any other similar dataset.\n",
    "\n",
    "- Consider adding additional data analysis tasks or customizations to further challenge students.\n"
   ]
  },
  {
   "cell_type": "code",
   "execution_count": 40,
   "id": "c811d772",
   "metadata": {},
   "outputs": [],
   "source": [
    "import csv  #  import the CSV module\n",
    "\n",
    "class student:\n",
    "    def __init__(self, student_id, name, score):\n",
    "        self.student_id = student_id\n",
    "        self.name = name\n",
    "        self.score = score\n",
    "try:\n",
    "    with open('students.csv') as f:\n",
    "        ls = [{a: b for a, b in row.items()}\n",
    "        for row in csv.DictReader(f, skipinitialspace=True)]        \n",
    "except IOError:\n",
    "    print(\"An error occurred while writing the data to the file.\")\n",
    "except Exception as e:\n",
    "    print(f\"An unexpected error occurred: {str(e)}\")  "
   ]
  },
  {
   "cell_type": "code",
   "execution_count": 41,
   "id": "0486261f",
   "metadata": {},
   "outputs": [],
   "source": [
    "stu = [student(item[\"student_id\"], item[\"name\"], item[\"score\"]) for item in ls]\n",
    "\n",
    "ls1 =[gr for gr in stu if int(gr.score) >= 90]"
   ]
  },
  {
   "cell_type": "code",
   "execution_count": 42,
   "id": "b986e50c",
   "metadata": {},
   "outputs": [
    {
     "name": "stdout",
     "output_type": "stream",
     "text": [
      "69.66666666666667\n"
     ]
    }
   ],
   "source": [
    "t=0\n",
    "for x in stu:\n",
    "    t+=int(x.score)\n",
    "avg=t/(len(stu))    \n",
    "\n",
    "\n",
    "print(avg)"
   ]
  },
  {
   "cell_type": "markdown",
   "id": "1d1f947d",
   "metadata": {},
   "source": [
    " ## IV) Data Analysis with Exception Handling**"
   ]
  },
  {
   "cell_type": "markdown",
   "id": "bb0498d1",
   "metadata": {},
   "source": [
    " Process a CSV file containing financial transaction data, calculate various statistics, and handle exceptions that may arise during data processing.\n",
    "\n",
    "Instructions:\n",
    "\n",
    "1. Create a `Transaction` class with the following attributes: `transaction_id`, `date`, `amount`, and `description`. Implement a constructor to initialize these attributes.\n",
    "\n",
    "2. Read the data from the CSV file \"financial_transactions.csv\" into a list of `Transaction` objects. The CSV file contains columns: \"Transaction ID\", \"Date\", \"Amount\", and \"Description\". Handle exceptions that may occur while reading the file (e.g., file not found).\n",
    "\n",
    "3. Calculate the following statistics:\n",
    "   - Total number of transactions.\n",
    "   - Total transaction amount.\n",
    "   - Average transaction amount.\n",
    "   - The highest transaction amount.\n",
    "   - The lowest transaction amount.\n",
    "\n",
    "4. Use a list comprehension to create a list of transactions with negative amounts.\n",
    "\n",
    "5. Handle exceptions when performing calculations (e.g., handling invalid amount values, division by zero) and print informative error messages for each exception.\n",
    "\n",
    "\n",
    "\n",
    "\n",
    "\n",
    "\n",
    "\n"
   ]
  },
  {
   "cell_type": "markdown",
   "id": "d99088bc",
   "metadata": {},
   "source": [
    "#Code Template (with missing parts):\n",
    "\n",
    "```python\n",
    "# Define the Transaction class (fill in the missing class definition)\n",
    "\n",
    "# Initialize an empty list to store Transaction objects (fill in the missing code)\n",
    "\n",
    "# Read data from the CSV file and create Transaction objects (fill in the missing code)\n",
    "\n",
    "# Initialize variables to store statistics (fill in the missing code)\n",
    "\n",
    "# Calculate statistics for the transactions (fill in the missing code)\n",
    "\n",
    "# Use list comprehension to create a list of transactions with negative amounts (fill in the missing code)\n",
    "\n",
    "# Handle file-related exceptions when reading the CSV file (fill in the missing code)\n",
    "\n",
    "# Handle value-related exceptions when performing calculations (fill in the missing code)\n",
    "```"
   ]
  },
  {
   "cell_type": "code",
   "execution_count": 34,
   "id": "c04912f4",
   "metadata": {},
   "outputs": [
    {
     "name": "stdout",
     "output_type": "stream",
     "text": [
      "total transactions 10\n",
      "total amount 286.0\n",
      "avg transactions 0\n",
      "highest transaction 500.0\n"
     ]
    }
   ],
   "source": [
    "#Code Template (with missing parts):\n",
    "\n",
    "# Define the Transaction class (fill in the missing class definition)\n",
    "class transaction:\n",
    "    def __init__(self,transaction_id,date,amount,description):\n",
    "        self.transaction_id = transaction_id\n",
    "        self.date = date\n",
    "        self.amount = amount\n",
    "        self.description = description\n",
    "          \n",
    "# Initialize an empty list to store Transaction objects (fill in the missing code)\n",
    "ltran = []\n",
    "# Read data from the CSV file and create Transaction objects (fill in the missing code)\n",
    "try:\n",
    "    with open('transaction2.csv') as f:\n",
    "        ltran = [{k: v for k, v in row.items()}\n",
    "        for row in csv.DictReader(f, skipinitialspace=True)]        \n",
    "except IOError:\n",
    "    print(\"An error occurred while writing the data to the file.\")\n",
    "except Exception as e:\n",
    "    print(f\"An unexpected error occurred: {str(e)}\") \n",
    "# Initialize variables to store statistics (fill in the missing code)\n",
    "tot_tran=0\n",
    "tot_amt=0\n",
    "avg_tran=0\n",
    "high_tran=0\n",
    "low_tran=0\n",
    "# Calculate statistics for the transactions (fill in the missing code)\n",
    "tot_tran=len(ltran)\n",
    "for i in ltran:\n",
    "    tot_amt+=float(i[\"amount\"])\n",
    "    if high_tran<float(i[\"amount\"]):\n",
    "        high_tran=float(i[\"amount\"])\n",
    "    if low_tran==0:\n",
    "        low_tran=float(i[\"amount\"])\n",
    "    elif low_tran > float(i[\"amount\"]):\n",
    "        low_tran= float(i[\"amount\"])\n",
    "try:    \n",
    "    avg_tr=tot_amt/tot_tran        \n",
    "except ValueError:\n",
    "    print('Division by zero is not possible')        \n",
    "print(\"total transactions\",tot_tran)\n",
    "print(\"total amount\",tot_amt)\n",
    "print(\"avg transactions\",avg_tran)\n",
    "print(\"highest transaction\",high_tran)\n",
    "# Use list comprehension to create a list of transactions with negative amounts (fill in the missing code)\n",
    "tran = [transaction(item[\"transaction_id\"], item[\"date\"], item[\"amount\"], item[\"description\"]) for item in ltran]"
   ]
  },
  {
   "cell_type": "markdown",
   "id": "9d5edc42",
   "metadata": {},
   "source": [
    "- Complete the missing parts of the code to define the `Transaction` class, read data from the CSV file, calculate statistics, and create a list of transactions with negative amounts.\n",
    "- Implement error handling for file-related and value-related exceptions as described in the instructions.\n",
    "- Test the code with the provided \"financial_transactions.csv\" file or any other similar dataset.\n",
    "- Consider adding more advanced data analysis tasks or customizations to further challenge students, such as identifying specific patterns in transaction descriptions or visualizing the data."
   ]
  }
 ],
 "metadata": {
  "kernelspec": {
   "display_name": "Python 3 (ipykernel)",
   "language": "python",
   "name": "python3"
  },
  "language_info": {
   "codemirror_mode": {
    "name": "ipython",
    "version": 3
   },
   "file_extension": ".py",
   "mimetype": "text/x-python",
   "name": "python",
   "nbconvert_exporter": "python",
   "pygments_lexer": "ipython3",
   "version": "3.9.7"
  }
 },
 "nbformat": 4,
 "nbformat_minor": 5
}
