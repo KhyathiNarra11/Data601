{
 "cells": [
  {
   "cell_type": "markdown",
   "id": "c413c456",
   "metadata": {},
   "source": [
    "## Data Science Life Cycle\n",
    "\n",
    "1. Defining the problem - Project scope and goals\n",
    "   -Defining the KPIS - Product owner, DS and the project Manager \n",
    "\n",
    "2. Understanding the data requirement and accessability\n",
    "   DS, Data Engineers\n",
    "   \n",
    "3. Doing EDA (Exploratory Data Analysis) - Draw insights and patterns\n",
    "   DS, Data Engineer\n",
    "\n",
    "4. Prepare Data - Feature Engineering/Transformation, creating new variables from the existing features\n",
    "\n",
    "5. Train and Develop Model\n",
    "   DS, ML Engineers\n",
    "   \n",
    "   Model Validation and optimization\n",
    "   ML Engineers and with DS\n",
    "   \n",
    "6. Deploying production and utilize in any web or dashboard applications\n",
    "   DEVOPS, MLOPS (DEVOPS, ML Engineers---CI/CD) & DE (Data Pipeline)\n",
    "   \n",
    "7. Montoring Model Performance in the Production environment\n",
    "   -Model decaying - Model performance degrade overtime\n",
    "   -that could be the Data Distribution change by type and variance\n",
    "   -There could be business interest change\n",
    "\n",
    "Can monitor model through alert - Dashboard POWER BI or \n",
    "I always look at the RMSE - Root Mean Square Error, R-square\n",
    "Classification - Accuracy, Recall, Precision, AUC Curve"
   ]
  },
  {
   "cell_type": "code",
   "execution_count": null,
   "id": "8ea7c5e8",
   "metadata": {},
   "outputs": [],
   "source": [
    "# integer('int')\n",
    "\n",
    "age=21\n",
    "\n",
    "# float('float')\n",
    "\n",
    "height=136.5\n",
    "\n",
    "#comlex Number ('complex')\n",
    "\n",
    "z=1+2j\n",
    "\n",
    "#Text Data Types\n",
    "\n",
    "#String ('str')\n",
    "\n",
    "name=\"Khyathi\"\n",
    "message='Hi DS !'\n",
    "\n",
    "#Sequence Data Types\n",
    "\n",
    "1. LIST ('list') -- They are ordered collection of items that can be of differeent data types\n",
    "   - Lists are mutable, which mean you can change the content"
   ]
  },
  {
   "cell_type": "code",
   "execution_count": 1,
   "id": "5df05bf4",
   "metadata": {},
   "outputs": [],
   "source": [
    "#List of friut basket\n",
    "fruit=[\"apple\",\"mango\",\"fig\"]"
   ]
  },
  {
   "cell_type": "code",
   "execution_count": null,
   "id": "452374e3",
   "metadata": {},
   "outputs": [],
   "source": [
    "# Tuple('tuple') -- They are similar to lists but are immutable, you can't change the content after creation\n",
    "\n",
    "coordinates=(3,4)"
   ]
  },
  {
   "cell_type": "code",
   "execution_count": null,
   "id": "45f5c0f9",
   "metadata": {},
   "outputs": [],
   "source": [
    "#Dictionaries('dict') -- Dictionaries store data in key-value pairs.\n",
    "-each key is unique, and you can use it to retrive its associated values\n",
    "-Dictionaries are unordered\n",
    "\n",
    "student_info={\"name\":Khyathi, \"age\":21}"
   ]
  },
  {
   "cell_type": "code",
   "execution_count": null,
   "id": "6dddad89",
   "metadata": {},
   "outputs": [],
   "source": [
    "# Boolean('bool')-Binary values, True or False\n",
    "\n",
    "is_student=True"
   ]
  },
  {
   "cell_type": "code",
   "execution_count": null,
   "id": "979aeb91",
   "metadata": {},
   "outputs": [],
   "source": [
    "#SETS('set') - Sets are unordered collection of unique elements\n",
    "- They are commonly used for operations like intersection,union, merge etc"
   ]
  },
  {
   "cell_type": "code",
   "execution_count": null,
   "id": "aaef7ad6",
   "metadata": {},
   "outputs": [],
   "source": [
    "# None Type\n",
    "\n",
    "results=None"
   ]
  },
  {
   "cell_type": "code",
   "execution_count": 2,
   "id": "9b1f530e",
   "metadata": {},
   "outputs": [],
   "source": [
    "# Bytes are used to represent binary data such as image files or network packets\n",
    "\n",
    "binary_data=b'\\x00\\x01\\x02'"
   ]
  },
  {
   "cell_type": "code",
   "execution_count": 3,
   "id": "beb5c858",
   "metadata": {},
   "outputs": [],
   "source": [
    "# Date and Time Data Types\n",
    "\n",
    "#Dates (\"date\"and'time'): These data types are used to represent dates an time respectively - \"dataset\" module\n",
    "\n",
    "from datetime import date, time, datetime\n",
    "\n",
    "current_date=date(2023,9,13)\n",
    "\n",
    "current_time=time(20,17)\n",
    "\n",
    "current_datetime=(2023,9,13,20,17)"
   ]
  },
  {
   "cell_type": "code",
   "execution_count": 5,
   "id": "05e03b6f",
   "metadata": {},
   "outputs": [
    {
     "data": {
      "text/plain": [
       "datetime.date(2023, 9, 13)"
      ]
     },
     "execution_count": 5,
     "metadata": {},
     "output_type": "execute_result"
    }
   ],
   "source": [
    "current_date"
   ]
  },
  {
   "cell_type": "code",
   "execution_count": 6,
   "id": "e4b22c1e",
   "metadata": {},
   "outputs": [
    {
     "data": {
      "text/plain": [
       "datetime.time(20, 17)"
      ]
     },
     "execution_count": 6,
     "metadata": {},
     "output_type": "execute_result"
    }
   ],
   "source": [
    "current_time"
   ]
  },
  {
   "cell_type": "markdown",
   "id": "84481782",
   "metadata": {},
   "source": [
    "##Lists and Tuples"
   ]
  },
  {
   "cell_type": "code",
   "execution_count": 7,
   "id": "7591b298",
   "metadata": {},
   "outputs": [],
   "source": [
    "#create a list called fruits containing thr name of your favorite fruits\n",
    "\n",
    "fruits=[\"apple\",\"mango\",\"fig\"]"
   ]
  },
  {
   "cell_type": "code",
   "execution_count": 9,
   "id": "58ee2c20",
   "metadata": {},
   "outputs": [
    {
     "name": "stdout",
     "output_type": "stream",
     "text": [
      "First fruit: apple\n",
      "last_fruit: fig\n"
     ]
    }
   ],
   "source": [
    "#access and print the first and last element of fruits list\n",
    "\n",
    "first_fruit= fruits[0]\n",
    "\n",
    "last_fruit= fruits[2]\n",
    "\n",
    "print(\"First fruit:\",first_fruit)\n",
    "\n",
    "print(\"last_fruit:\",last_fruit)"
   ]
  },
  {
   "cell_type": "code",
   "execution_count": 10,
   "id": "39862c10",
   "metadata": {},
   "outputs": [],
   "source": [
    "#Modifying lists\n",
    "fruits.append(\"cherry\")"
   ]
  },
  {
   "cell_type": "code",
   "execution_count": 11,
   "id": "d30b0ec7",
   "metadata": {},
   "outputs": [
    {
     "name": "stdout",
     "output_type": "stream",
     "text": [
      "['apple', 'mango', 'fig', 'cherry']\n"
     ]
    }
   ],
   "source": [
    "print(fruits)"
   ]
  },
  {
   "cell_type": "code",
   "execution_count": 13,
   "id": "cf35f35d",
   "metadata": {},
   "outputs": [],
   "source": [
    "fruits[1]=\"pear\""
   ]
  },
  {
   "cell_type": "code",
   "execution_count": 14,
   "id": "e79776c0",
   "metadata": {},
   "outputs": [
    {
     "name": "stdout",
     "output_type": "stream",
     "text": [
      "Modified fruits list: ['apple', 'pear', 'fig', 'cherry']\n"
     ]
    }
   ],
   "source": [
    "print(\"Modified fruits list:\",fruits)"
   ]
  },
  {
   "cell_type": "code",
   "execution_count": 19,
   "id": "406c616a",
   "metadata": {},
   "outputs": [
    {
     "name": "stdout",
     "output_type": "stream",
     "text": [
      "selected_fruits: ['apple', 'pear', 'fig']\n"
     ]
    }
   ],
   "source": [
    "# List slicing\n",
    "\n",
    "selected_fruits=fruits[:3]\n",
    "print('selected_fruits:',selected_fruits)"
   ]
  },
  {
   "cell_type": "code",
   "execution_count": 20,
   "id": "f277d209",
   "metadata": {},
   "outputs": [
    {
     "name": "stdout",
     "output_type": "stream",
     "text": [
      "Sum of Numbers: 55\n"
     ]
    }
   ],
   "source": [
    "#list operation\n",
    "\n",
    "numbers=list(range(1,11))\n",
    "sum_numbers=sum(numbers)\n",
    "print(\"Sum of Numbers:\", sum_numbers)"
   ]
  },
  {
   "cell_type": "code",
   "execution_count": 21,
   "id": "3cdea1ae",
   "metadata": {},
   "outputs": [
    {
     "data": {
      "text/plain": [
       "[1, 2, 3, 4, 5, 6, 7, 8, 9, 10]"
      ]
     },
     "execution_count": 21,
     "metadata": {},
     "output_type": "execute_result"
    }
   ],
   "source": [
    "numbers"
   ]
  },
  {
   "cell_type": "code",
   "execution_count": 22,
   "id": "bd54d68d",
   "metadata": {},
   "outputs": [
    {
     "name": "stdout",
     "output_type": "stream",
     "text": [
      "Squared numbers: [1, 4, 9, 16, 25, 36, 49, 64, 81, 100]\n"
     ]
    }
   ],
   "source": [
    "#List comprehension\n",
    "\n",
    "squared_numbers=[x**2 for x in numbers]\n",
    "\n",
    "print(\"Squared numbers:\",squared_numbers)"
   ]
  },
  {
   "cell_type": "code",
   "execution_count": 23,
   "id": "a596a9da",
   "metadata": {},
   "outputs": [],
   "source": [
    "#creating Tuples\n",
    "\n",
    "coordinates=(12.56, -67.5432) #NY city coordinates\n",
    "\n",
    "#accessing tuple elements\n",
    "\n",
    "latitude=coordinates[0]"
   ]
  },
  {
   "cell_type": "code",
   "execution_count": 24,
   "id": "2bb84e98",
   "metadata": {},
   "outputs": [
    {
     "data": {
      "text/plain": [
       "12.56"
      ]
     },
     "execution_count": 24,
     "metadata": {},
     "output_type": "execute_result"
    }
   ],
   "source": [
    "latitude"
   ]
  },
  {
   "cell_type": "code",
   "execution_count": 25,
   "id": "2aa687e6",
   "metadata": {},
   "outputs": [],
   "source": [
    "longitude=coordinates[1]"
   ]
  },
  {
   "cell_type": "code",
   "execution_count": 26,
   "id": "8699a29b",
   "metadata": {},
   "outputs": [
    {
     "data": {
      "text/plain": [
       "-67.5432"
      ]
     },
     "execution_count": 26,
     "metadata": {},
     "output_type": "execute_result"
    }
   ],
   "source": [
    "longitude"
   ]
  },
  {
   "cell_type": "code",
   "execution_count": 28,
   "id": "e130dd9a",
   "metadata": {},
   "outputs": [
    {
     "ename": "TypeError",
     "evalue": "'tuple' object does not support item assignment",
     "output_type": "error",
     "traceback": [
      "\u001b[1;31m---------------------------------------------------------------------------\u001b[0m",
      "\u001b[1;31mTypeError\u001b[0m                                 Traceback (most recent call last)",
      "\u001b[1;32m~\\AppData\\Local\\Temp/ipykernel_13968/2849114620.py\u001b[0m in \u001b[0;36m<module>\u001b[1;34m\u001b[0m\n\u001b[0;32m      1\u001b[0m \u001b[1;31m#Tuple immutability\u001b[0m\u001b[1;33m\u001b[0m\u001b[1;33m\u001b[0m\u001b[0m\n\u001b[0;32m      2\u001b[0m \u001b[1;33m\u001b[0m\u001b[0m\n\u001b[1;32m----> 3\u001b[1;33m \u001b[0mcoordinates\u001b[0m\u001b[1;33m[\u001b[0m\u001b[1;36m0\u001b[0m\u001b[1;33m]\u001b[0m\u001b[1;33m=\u001b[0m\u001b[1;36m32.456\u001b[0m\u001b[1;33m\u001b[0m\u001b[1;33m\u001b[0m\u001b[0m\n\u001b[0m",
      "\u001b[1;31mTypeError\u001b[0m: 'tuple' object does not support item assignment"
     ]
    }
   ],
   "source": [
    "#Tuple immutability\n",
    "\n",
    "coordinates[0]=32.456"
   ]
  },
  {
   "cell_type": "code",
   "execution_count": 29,
   "id": "405bf48a",
   "metadata": {},
   "outputs": [
    {
     "name": "stdout",
     "output_type": "stream",
     "text": [
      "Name Khyathi\n",
      "Age 21\n",
      "City Maryland\n"
     ]
    }
   ],
   "source": [
    "# Tuple Unpacking\n",
    "\n",
    "person_info=(\"Khyathi\", 21, \"Maryland\")\n",
    "\n",
    "name, age, city=person_info\n",
    "\n",
    "print(\"Name\", name)\n",
    "\n",
    "print(\"Age\", age)\n",
    "\n",
    "print(\"City\", city)"
   ]
  },
  {
   "cell_type": "code",
   "execution_count": 31,
   "id": "2df3cd2f",
   "metadata": {},
   "outputs": [
    {
     "name": "stdout",
     "output_type": "stream",
     "text": [
      "combined tuple: ('Khyathi', 21, 'Sneha', 19)\n"
     ]
    }
   ],
   "source": [
    "#combining tuples\n",
    "\n",
    "tuple1=(\"Khyathi\",21)\n",
    "tuple2=(\"Sneha\",19)\n",
    "combined_tuple= tuple1 + tuple2\n",
    "print(\"combined tuple:\", combined_tuple)"
   ]
  },
  {
   "cell_type": "code",
   "execution_count": 32,
   "id": "c081d017",
   "metadata": {},
   "outputs": [
    {
     "name": "stdout",
     "output_type": "stream",
     "text": [
      "Nested tuple: ((1, 2), (4, 5), (6, 7))\n"
     ]
    }
   ],
   "source": [
    "#Nested tuples\n",
    "nested_tuple=((1,2),(4,5),(6,7))\n",
    "\n",
    "print(\"Nested tuple:\",nested_tuple)"
   ]
  },
  {
   "cell_type": "code",
   "execution_count": 34,
   "id": "69604744",
   "metadata": {},
   "outputs": [
    {
     "name": "stdout",
     "output_type": "stream",
     "text": [
      "passed\n"
     ]
    }
   ],
   "source": [
    "#Conditional statement\n",
    "#if, elif, else\n",
    "\n",
    "grade=89\n",
    "\n",
    "if grade>=60:\n",
    "    print(\"passed\")"
   ]
  },
  {
   "cell_type": "code",
   "execution_count": 35,
   "id": "fc6dfe29",
   "metadata": {},
   "outputs": [
    {
     "name": "stdout",
     "output_type": "stream",
     "text": [
      "you are an adult\n"
     ]
    }
   ],
   "source": [
    "# Simple Conditional Statement\n",
    "\n",
    "age=18\n",
    "\n",
    "if age>=18:\n",
    "    print(\"you are an adult\")\n",
    "else:\n",
    "    print(\"you are minor\")"
   ]
  },
  {
   "cell_type": "code",
   "execution_count": 36,
   "id": "a5ff6e65",
   "metadata": {},
   "outputs": [
    {
     "name": "stdout",
     "output_type": "stream",
     "text": [
      "Enter temperature value:78\n",
      "Enter temperature unit (Celsius or Fahrenheit): Fahrenheit\n",
      "78.0°F is equal to 25.555555555555557°C.\n"
     ]
    }
   ],
   "source": [
    "# Ask for the user temperature value and unit\n",
    "\n",
    "temperature = float(input(\"Enter temperature value:\"))\n",
    "unit = input(\"Enter temperature unit (Celsius or Fahrenheit): \").lower()\n",
    "\n",
    "#perform temperature conversion\n",
    "if unit == \"celsius\":\n",
    "    fahrenheit = (temperature * 9/5) + 32\n",
    "    print(f\"{temperature}°C is equal to {fahrenheit}°F.\")\n",
    "elif unit == \"fahrenheit\":\n",
    "    celsius = (temperature - 32) * 5/9\n",
    "    print(f\"{temperature}°F is equal to {celsius}°C.\")\n",
    "else:\n",
    "    print(\"Invalid unit. Please enter Celsius or Fahrenheit.\") "
   ]
  },
  {
   "cell_type": "code",
   "execution_count": 37,
   "id": "1b6626b0",
   "metadata": {},
   "outputs": [
    {
     "name": "stdout",
     "output_type": "stream",
     "text": [
      "Enter your exam score (out of 100): 67\n",
      "Your letter grade is: D\n"
     ]
    }
   ],
   "source": [
    "#Grading system\n",
    "\n",
    "score = int(input(\"Enter your exam score (out of 100): \"))\n",
    "# Assign a letter grade based on the score\n",
    "if score >= 90:\n",
    "    grade = \"A\"\n",
    "elif score >= 80:\n",
    "    grade = \"B\"\n",
    "elif score >= 70:\n",
    "    grade = \"C\"\n",
    "elif score >= 60:\n",
    "    grade = \"D\"\n",
    "else:\n",
    "    grade = \"F\"\n",
    "print(f\"Your letter grade is: {grade}\")"
   ]
  },
  {
   "cell_type": "code",
   "execution_count": 38,
   "id": "e53e724c",
   "metadata": {},
   "outputs": [
    {
     "name": "stdout",
     "output_type": "stream",
     "text": [
      "Enter your age: 99\n",
      "Do you have a student ID? (yes/no): yes\n",
      "Your ticket price is $5.\n"
     ]
    }
   ],
   "source": [
    "age = int(input(\"Enter your age: \"))\n",
    "student_id = input(\"Do you have a student ID? (yes/no): \").lower()\n",
    "# Initial ticket price\n",
    "ticket_price = 10\n",
    "# Apply discounts based on conditions\n",
    "if age < 13:\n",
    "    ticket_price -= 1\n",
    "elif age >= 65:\n",
    "    ticket_price = 7\n",
    "if student_id == \"yes\":\n",
    "    ticket_price -= 2\n",
    "print(f\"Your ticket price is ${ticket_price}.\")"
   ]
  },
  {
   "cell_type": "code",
   "execution_count": 39,
   "id": "4545073e",
   "metadata": {},
   "outputs": [
    {
     "name": "stdout",
     "output_type": "stream",
     "text": [
      "Enter your credit score: 600\n",
      "Enter your annual income: 70000\n",
      "Based on your credit score and income, you are categorized as 'Medium Risk'.\n"
     ]
    }
   ],
   "source": [
    "# Ask the user for their credit score and income\n",
    "credit_score = int(input(\"Enter your credit score: \"))\n",
    "income = float(input(\"Enter your annual income: \"))\n",
    "# Define threshold values\n",
    "credit_score_threshold = 700\n",
    "income_threshold = 50000\n",
    "# Initialize the risk category\n",
    "risk_category = None\n",
    "# Determine the risk category using if statements\n",
    "if credit_score >= credit_score_threshold and income >= income_threshold:\n",
    "    risk_category = \"Low Risk\"\n",
    "elif credit_score < credit_score_threshold and income < income_threshold:\n",
    "    risk_category = \"High Risk\"\n",
    "else:\n",
    "    risk_category = \"Medium Risk\"\n",
    "# Provide the risk assessment to the user\n",
    "print(f\"Based on your credit score and income, you are categorized as '{risk_category}'.\")"
   ]
  },
  {
   "cell_type": "code",
   "execution_count": null,
   "id": "a8cca979",
   "metadata": {},
   "outputs": [],
   "source": []
  },
  {
   "cell_type": "code",
   "execution_count": null,
   "id": "92f0e9a6",
   "metadata": {},
   "outputs": [],
   "source": []
  }
 ],
 "metadata": {
  "kernelspec": {
   "display_name": "Python 3 (ipykernel)",
   "language": "python",
   "name": "python3"
  },
  "language_info": {
   "codemirror_mode": {
    "name": "ipython",
    "version": 3
   },
   "file_extension": ".py",
   "mimetype": "text/x-python",
   "name": "python",
   "nbconvert_exporter": "python",
   "pygments_lexer": "ipython3",
   "version": "3.9.7"
  }
 },
 "nbformat": 4,
 "nbformat_minor": 5
}
