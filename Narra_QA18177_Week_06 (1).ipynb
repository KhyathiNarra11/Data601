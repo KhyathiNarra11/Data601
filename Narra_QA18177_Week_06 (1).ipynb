{
 "cells": [
  {
   "cell_type": "markdown",
   "id": "e8d212f1",
   "metadata": {},
   "source": [
    "### Q1: Explain the central limit theorem and give examples of when you can use it in a real-world problem. ###"
   ]
  },
  {
   "cell_type": "markdown",
   "id": "7aa26a44",
   "metadata": {},
   "source": [
    "Central Limit Theorem takes multiple samples of non-normal distributed data and take each of their means, these means will \n",
    "represent a normal distribution.\n",
    "For example, to estimate the average number of population getting jobs per year. Survey a random sample of people and use the \n",
    "CLT to make inferences about the people getting placed."
   ]
  },
  {
   "cell_type": "markdown",
   "id": "4c888f65",
   "metadata": {},
   "source": [
    "### Q2: Briefly explain the A/B testing and its application? What are some common pitfalls encountered in A/B testing? ###"
   ]
  },
  {
   "cell_type": "markdown",
   "id": "994c5fdc",
   "metadata": {},
   "source": [
    "A/B testing is type of testing where two webpages or a feature versions are compared to determine the best performing version. The testing criteria are user engaugement, click through rates, hits and other key performance indicators.\n",
    "Pitfalls encountered in A/B testing:\n",
    "- Small sample sizes\n",
    "- Not learning from failed tests\n",
    "- Inaccurately analyzing test results\n",
    "- Ignoring mobile traffic"
   ]
  },
  {
   "cell_type": "markdown",
   "id": "a230ebe1",
   "metadata": {},
   "source": [
    "### Q3: Describe briefly the hypothesis testing and p-value in layman’s term? And give a practical application for them ?"
   ]
  },
  {
   "cell_type": "markdown",
   "id": "7d50708d",
   "metadata": {},
   "source": [
    "**Hypothesis Testing** is done based on a hunch or a question. In this testing you findout if you have supproting evidence to support your hunch.\n",
    "\n",
    "**P-value** is a way of measuring your test results. A low p-value suggests that your results don't align with your null hypothesis usually this value is less than 0.05 and it also says that your hunch is right.\n",
    "If p-value is high it suggests that your results align with your null hypothesis and your hunch is wrong.\n",
    "\n",
    "**Application**\n",
    "Testing the effectiveness of new iphone\n",
    "Hypothesis:\n",
    "Null Hypothesis (H0): The new iphone is equally effective as the previous iphones\n",
    "Alternative Hypothesis (Ha): The new drug is more effective than the previous iphones\n",
    "- Two groups of people are selected one group are new iphones users and the other is old iphone users\n",
    "- A t-test is performed on both the groups and p-value is calculated\n",
    "- If the p-value is less than the significance value then the null hypothesis is false\n",
    "- If the p-value is more than the significance value then the null hypothesis is true which indicates there is no much difference between new iphone and the previous ones\n"
   ]
  },
  {
   "cell_type": "markdown",
   "id": "8867eea6",
   "metadata": {},
   "source": [
    "### Q4: Given a left-skewed distribution that has a median of 60, what conclusions can we draw about the mean and the mode of the data? ###"
   ]
  },
  {
   "cell_type": "markdown",
   "id": "322a3429",
   "metadata": {},
   "source": [
    "As the median is 60 that means 50% of data is on the left side and the other 50% on the right side. As it is left-skewed distribution the tail is longer towards the left side which makes mean lesser than the median and the mode greater than the median."
   ]
  },
  {
   "cell_type": "markdown",
   "id": "194b9db4",
   "metadata": {},
   "source": [
    "### Q5: What is the meaning of selection bias and how to avoid it? ###"
   ]
  },
  {
   "cell_type": "markdown",
   "id": "62b0ee38",
   "metadata": {},
   "source": [
    "Selection bias is a systematic error that occurs when a study's sample group is not representative of the population being studied.\n",
    "Ways to avoid:\n",
    "- Using random sampling\n",
    "- Allowing anonymous responses\n",
    "- Randomly selecting questions"
   ]
  },
  {
   "cell_type": "markdown",
   "id": "a6bd9dc7",
   "metadata": {},
   "source": [
    "### Q6: Explain the long-tailed distribution and provide three examples of relevant phenomena that have long tails. Why are they important in classification and regression problems? ###"
   ]
  },
  {
   "cell_type": "markdown",
   "id": "3dfc918c",
   "metadata": {},
   "source": [
    "A long-tailed distribution has a tail that drop off gradually and asymptotically. \n",
    "Examples include stock prize fluctuation, city population size, Risk assesment.\n",
    "Long-tailed distribution impacts the performance and robustness of classification and regression models, and addressing the unique challenges they pose is essential for accurate and reliable predictions."
   ]
  },
  {
   "cell_type": "markdown",
   "id": "9f279b21",
   "metadata": {},
   "source": [
    "### Q7: What is the meaning of KPI in statistics ###"
   ]
  },
  {
   "cell_type": "code",
   "execution_count": null,
   "id": "12b76f80",
   "metadata": {},
   "outputs": [],
   "source": [
    "KPI is Key Performance Indicator which is a measure of performance. They help to maintain a track on business outcomes."
   ]
  },
  {
   "cell_type": "markdown",
   "id": "ed254d94",
   "metadata": {},
   "source": [
    "### Q8: Say you flip a coin 10 times and observe only one head. What would be the null hypothesis and p-value for testing whether the coin is fair or not? ###"
   ]
  },
  {
   "cell_type": "markdown",
   "id": "150d879f",
   "metadata": {},
   "source": [
    "Null hypothesis is True\n",
    "Probability of head is 0.50 then p value in the binomial distribution 1 of the 10 trial (n combination k)*p^k*(1-p)^(n-k)=(10 combination 1)*0.50^1*0.50^9= 0,009. It is less than 0.05, reject null hypothesis. Coin is not fair."
   ]
  },
  {
   "cell_type": "markdown",
   "id": "a47139a3",
   "metadata": {},
   "source": [
    "### Q9: You are testing hundreds of hypotheses, each with a t-test. What considerations would you take into account when doing this? ###"
   ]
  },
  {
   "cell_type": "markdown",
   "id": "017ff99c",
   "metadata": {},
   "source": [
    "- The first assumption made about t-tests relates to the measurement range. The t-test makes the assumption that the scale of measurement used to assess the data is continuous like the results of an IQ test.\n",
    "- The second presumption is that the data is gathered from a representative, randomly chosen subset of the entire population, which is known as a simple random sample.\n",
    "- The third presumption is that the data produces a bell-shaped distribution curve with a normal distribution when it is plotted. One can provide a level of probability as a requirement for acceptance when a normal distribution is assumed. A value of 5% can typically be expected.\n",
    "- A sizeable sample size is the fourth presumption."
   ]
  },
  {
   "cell_type": "markdown",
   "id": "6f0dad6f",
   "metadata": {},
   "source": [
    "### Q10: What general conditions must be satisfied for the central limit theorem to hold? ###"
   ]
  },
  {
   "cell_type": "markdown",
   "id": "97516360",
   "metadata": {},
   "source": [
    "- The population must have a finite mean and variance\n",
    "- The samples must be independent and identically distributed\n",
    "- The sample size must be large enough"
   ]
  },
  {
   "cell_type": "markdown",
   "id": "f93e1565",
   "metadata": {},
   "source": [
    "### Q11: What is skewness discuss two methods to measure it? ###"
   ]
  },
  {
   "cell_type": "markdown",
   "id": "a7c557a6",
   "metadata": {},
   "source": [
    "Skewness can be measured  using Pearson mode skewness and Pearson median skewness are the two frequently used methods. The pearson mode skewness is used when a strong mode is exhibited by the sample data. If the data includes multiple modes or a weak mode, Pearson's median skewness is used."
   ]
  },
  {
   "cell_type": "markdown",
   "id": "f6684eb8",
   "metadata": {},
   "source": [
    "\n",
    "### Q13: Discuss the Chi-square, ANOVA, and t-test ###"
   ]
  },
  {
   "cell_type": "markdown",
   "id": "3f05ec6b",
   "metadata": {},
   "source": [
    "- Chi-Square test is used when we perform hypothesis testing on two categorical variables from a single population\n",
    "- Anova is used to compare multiple samples with a single test and is used when the categorical feature has more than two     categories.\n",
    "- T-test is used to compare the means of two groups of samples which may be related to certain features. It is performed on continuous variables."
   ]
  },
  {
   "cell_type": "markdown",
   "id": "bebacfbd",
   "metadata": {},
   "source": [
    "### Q16: What is the Law of Large Numbers in statistics and how it can be used in data science ? ###"
   ]
  },
  {
   "cell_type": "markdown",
   "id": "7700ae19",
   "metadata": {},
   "source": [
    "Law of Large Numbers describes the result of performing the same experiment a large number of times in order to achieve the expected value. In Data Science Law of Large Numbers is used to predict more accurate outcomes."
   ]
  },
  {
   "cell_type": "markdown",
   "id": "09c1032d",
   "metadata": {},
   "source": [
    "### Q17: What is the difference between a confidence interval and a prediction interval, and how do you calculate them? ###"
   ]
  },
  {
   "cell_type": "markdown",
   "id": "932ac37c",
   "metadata": {},
   "source": [
    "A confidence interval is a range of values that is likely to contain the true parameter value. A prediction interval is a range of values that is likely to contain the true value of a new observation.\n",
    "Prediction Interval is wider than confidence interval, because they account for the uncertainty in the mean value, but not the uncertainty in the individual observations. "
   ]
  }
 ],
 "metadata": {
  "kernelspec": {
   "display_name": "Python 3 (ipykernel)",
   "language": "python",
   "name": "python3"
  },
  "language_info": {
   "codemirror_mode": {
    "name": "ipython",
    "version": 3
   },
   "file_extension": ".py",
   "mimetype": "text/x-python",
   "name": "python",
   "nbconvert_exporter": "python",
   "pygments_lexer": "ipython3",
   "version": "3.9.7"
  }
 },
 "nbformat": 4,
 "nbformat_minor": 5
}
