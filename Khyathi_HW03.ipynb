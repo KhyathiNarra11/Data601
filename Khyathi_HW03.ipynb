{
 "cells": [
  {
   "cell_type": "markdown",
   "id": "876350fe",
   "metadata": {},
   "source": [
    "### Exercise 1: List Filtering"
   ]
  },
  {
   "cell_type": "code",
   "execution_count": 1,
   "id": "0fe4f55a",
   "metadata": {},
   "outputs": [],
   "source": [
    "#1)  Given a list of numbers, create a new list that contains only the even numbers."
   ]
  },
  {
   "cell_type": "code",
   "execution_count": 2,
   "id": "bd7b4a9e",
   "metadata": {},
   "outputs": [],
   "source": [
    "a=[1,2,4,5,12,11]\n",
    "b=[]"
   ]
  },
  {
   "cell_type": "code",
   "execution_count": 3,
   "id": "1da97016",
   "metadata": {},
   "outputs": [
    {
     "name": "stdout",
     "output_type": "stream",
     "text": [
      "[2, 4, 12]\n"
     ]
    }
   ],
   "source": [
    "for num in a:\n",
    "    if num%2==0:\n",
    "        b.append(num)\n",
    "print(b)\n",
    "        "
   ]
  },
  {
   "cell_type": "code",
   "execution_count": null,
   "id": "71914a29",
   "metadata": {},
   "outputs": [],
   "source": []
  },
  {
   "cell_type": "markdown",
   "id": "d0ab0963",
   "metadata": {},
   "source": [
    "### Exercise 2: Tuple Unpacking"
   ]
  },
  {
   "cell_type": "code",
   "execution_count": 5,
   "id": "60167e3f",
   "metadata": {},
   "outputs": [],
   "source": [
    "#2: Create a tuple of coordinates (x, y, z), and then unpack and print each coordinate separately."
   ]
  },
  {
   "cell_type": "code",
   "execution_count": 6,
   "id": "ef17eeca",
   "metadata": {},
   "outputs": [
    {
     "name": "stdout",
     "output_type": "stream",
     "text": [
      "x coordinate is 5\n",
      "y coordinate is 6\n",
      "z coordinate is 7\n"
     ]
    }
   ],
   "source": [
    "a=(5,6,7)\n",
    "(x,y,z)=a\n",
    "print(\"x coordinate is\",x)\n",
    "print(\"y coordinate is\",y)\n",
    "print(\"z coordinate is\",z)\n"
   ]
  },
  {
   "cell_type": "markdown",
   "id": "9fa6b335",
   "metadata": {},
   "source": [
    "### Exercise 3: List Concatenation"
   ]
  },
  {
   "cell_type": "code",
   "execution_count": 7,
   "id": "82cb5993",
   "metadata": {},
   "outputs": [],
   "source": [
    "#3: Given two lists, merge them into a single list without duplicates."
   ]
  },
  {
   "cell_type": "code",
   "execution_count": 8,
   "id": "2d8688cb",
   "metadata": {},
   "outputs": [
    {
     "name": "stdout",
     "output_type": "stream",
     "text": [
      "[1, 2, 5, 7, 11, 12]\n"
     ]
    }
   ],
   "source": [
    "a=[1,11,12,2]\n",
    "b=[2,5,7]\n",
    "c=a+b\n",
    "print(list(set(c)))"
   ]
  },
  {
   "cell_type": "markdown",
   "id": "bc8b5508",
   "metadata": {},
   "source": [
    "### Exercise 4: Conditional List Comprehension"
   ]
  },
  {
   "cell_type": "code",
   "execution_count": 9,
   "id": "4eeb4b10",
   "metadata": {},
   "outputs": [],
   "source": [
    "# 4 Create a list that contains squares of even numbers and cubes of odd numbers from 1 to 10 using list comprehension."
   ]
  },
  {
   "cell_type": "code",
   "execution_count": 10,
   "id": "3cb7fd27",
   "metadata": {},
   "outputs": [
    {
     "name": "stdout",
     "output_type": "stream",
     "text": [
      "[1, 4, 27, 16, 125, 36, 343, 64, 729, 100]\n"
     ]
    }
   ],
   "source": [
    "a=[1,2,3,4,5,6,7,8,9,10]\n",
    "b=[i**2 if i%2==0 else i**3 for i in a]\n",
    "print(b)\n"
   ]
  },
  {
   "cell_type": "code",
   "execution_count": null,
   "id": "05fb4665",
   "metadata": {},
   "outputs": [],
   "source": []
  },
  {
   "cell_type": "markdown",
   "id": "4bf29df9",
   "metadata": {},
   "source": [
    "## Exercise 5: List of Lists"
   ]
  },
  {
   "cell_type": "code",
   "execution_count": 12,
   "id": "af7582ba",
   "metadata": {},
   "outputs": [],
   "source": [
    "#Problem: Given a list of lists, flatten it into a single list.\n",
    "    \n",
    "nested_list = [[1, 2, 3], [4, 5], [6, 7, 8]]   "
   ]
  },
  {
   "cell_type": "code",
   "execution_count": 13,
   "id": "6a9feebf",
   "metadata": {},
   "outputs": [
    {
     "name": "stdout",
     "output_type": "stream",
     "text": [
      "[1, 2, 3, 4, 5, 6, 7, 8]\n"
     ]
    }
   ],
   "source": [
    "a=[]\n",
    "for i in nested_list:\n",
    "    for j in i:\n",
    "        a.append(j)\n",
    "print(a)"
   ]
  },
  {
   "cell_type": "markdown",
   "id": "65650e7f",
   "metadata": {},
   "source": [
    "## Exercise 6: List of Tuples"
   ]
  },
  {
   "cell_type": "code",
   "execution_count": 14,
   "id": "ad35dd00",
   "metadata": {},
   "outputs": [],
   "source": [
    "\n",
    "#Problem: Given a list of tuples, sort them based on the second element of each tuple.\n",
    "data = [(1, 5), (3, 2), (2, 8), (4, 1)]   "
   ]
  },
  {
   "cell_type": "code",
   "execution_count": 15,
   "id": "06cd2c79",
   "metadata": {},
   "outputs": [
    {
     "name": "stdout",
     "output_type": "stream",
     "text": [
      "[(4, 1), (3, 2), (1, 5), (2, 8)]\n"
     ]
    }
   ],
   "source": [
    "sort_list=sorted(data,key=lambda i: i[1])        \n",
    "print(sort_list)       \n",
    "    "
   ]
  },
  {
   "cell_type": "markdown",
   "id": "d4ea0014",
   "metadata": {},
   "source": [
    "## Exercise 7: Nested List Comprehension\n",
    "\n",
    "Problem: Create a matrix represented as a list of lists and transpose it using nested list comprehensions.\n"
   ]
  },
  {
   "cell_type": "code",
   "execution_count": 16,
   "id": "de5ac108",
   "metadata": {},
   "outputs": [],
   "source": [
    "matrix = [[1, 2, 3], [4, 5, 6], [7, 8, 9]]"
   ]
  },
  {
   "cell_type": "code",
   "execution_count": 17,
   "id": "0a77fcab",
   "metadata": {},
   "outputs": [
    {
     "name": "stdout",
     "output_type": "stream",
     "text": [
      "[[1 4 7]\n",
      " [2 5 8]\n",
      " [3 6 9]]\n"
     ]
    }
   ],
   "source": [
    "import numpy as np\n",
    "a=np.transpose(matrix)\n",
    "print(a)"
   ]
  },
  {
   "cell_type": "markdown",
   "id": "445b7344",
   "metadata": {},
   "source": [
    "## Exercise 8: Fibonacci Sequence\n",
    "\n",
    "Problem: Generate the first 10 numbers of the Fibonacci sequence using a list.\n",
    "Each number should be the sum of the previous two."
   ]
  },
  {
   "cell_type": "code",
   "execution_count": 18,
   "id": "dba40c44",
   "metadata": {},
   "outputs": [
    {
     "name": "stdout",
     "output_type": "stream",
     "text": [
      "[0, 1, 1, 2, 3, 5, 8, 13, 21, 34]\n"
     ]
    }
   ],
   "source": [
    "x = [0, 1]\n",
    "for i in range(2, 10):\n",
    "    y = x[i - 1] + x[i - 2]\n",
    "    x.append(y)\n",
    "print(x)"
   ]
  },
  {
   "cell_type": "markdown",
   "id": "5f033379",
   "metadata": {},
   "source": [
    "## Exercise 9: Prime Numbers\n",
    "\n",
    "Problem: Generate a list of prime numbers from 1 to 50"
   ]
  },
  {
   "cell_type": "code",
   "execution_count": 22,
   "id": "24496e8b",
   "metadata": {},
   "outputs": [
    {
     "name": "stdout",
     "output_type": "stream",
     "text": [
      "[2, 3, 5, 7, 11, 13, 17, 19, 23, 29, 31, 37, 41, 43, 47]\n"
     ]
    }
   ],
   "source": [
    "def is_prime(num):\n",
    "    if num <= 1:\n",
    "        return False\n",
    "    if num == 2:\n",
    "        return True\n",
    "    if num % 2 == 0:\n",
    "        return False\n",
    "    for i in range(3, int(num**0.5) + 1):\n",
    "        if num % i == 0:\n",
    "            return False\n",
    "    return True\n",
    "\n",
    "primes = [x for x in range(1, 51) if is_prime(x)]\n",
    "print(primes)\n"
   ]
  },
  {
   "cell_type": "code",
   "execution_count": null,
   "id": "3ed3f86e",
   "metadata": {},
   "outputs": [],
   "source": []
  }
 ],
 "metadata": {
  "kernelspec": {
   "display_name": "Python 3 (ipykernel)",
   "language": "python",
   "name": "python3"
  },
  "language_info": {
   "codemirror_mode": {
    "name": "ipython",
    "version": 3
   },
   "file_extension": ".py",
   "mimetype": "text/x-python",
   "name": "python",
   "nbconvert_exporter": "python",
   "pygments_lexer": "ipython3",
   "version": "3.9.7"
  }
 },
 "nbformat": 4,
 "nbformat_minor": 5
}
