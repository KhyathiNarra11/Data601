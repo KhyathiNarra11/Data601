{
 "cells": [
  {
   "cell_type": "code",
   "execution_count": 1,
   "id": "2421f9bd",
   "metadata": {},
   "outputs": [
    {
     "data": {
      "text/plain": [
       "9"
      ]
     },
     "execution_count": 1,
     "metadata": {},
     "output_type": "execute_result"
    }
   ],
   "source": [
    "4+5"
   ]
  },
  {
   "cell_type": "code",
   "execution_count": 1,
   "id": "193d67b0",
   "metadata": {},
   "outputs": [
    {
     "name": "stdout",
     "output_type": "stream",
     "text": [
      "Hi \n"
     ]
    }
   ],
   "source": [
    "print(\"Hi \")"
   ]
  },
  {
   "cell_type": "markdown",
   "id": "0dc0ece6",
   "metadata": {},
   "source": [
    "print(\"Hi Khyathi\")"
   ]
  },
  {
   "cell_type": "code",
   "execution_count": 2,
   "id": "ce2c54ca",
   "metadata": {},
   "outputs": [],
   "source": [
    "# create two variables num1, num2 and assign them numeric value\n",
    "num1= 1\n",
    "num2= 5"
   ]
  },
  {
   "cell_type": "code",
   "execution_count": 3,
   "id": "fd1139e6",
   "metadata": {},
   "outputs": [],
   "source": [
    "sum= num1 + num2"
   ]
  },
  {
   "cell_type": "code",
   "execution_count": 4,
   "id": "094d660e",
   "metadata": {},
   "outputs": [
    {
     "name": "stdout",
     "output_type": "stream",
     "text": [
      "6\n"
     ]
    }
   ],
   "source": [
    "print(sum)"
   ]
  },
  {
   "cell_type": "code",
   "execution_count": 12,
   "id": "09602937",
   "metadata": {},
   "outputs": [],
   "source": [
    "product= num1 * num2"
   ]
  },
  {
   "cell_type": "code",
   "execution_count": 13,
   "id": "d1455029",
   "metadata": {},
   "outputs": [
    {
     "name": "stdout",
     "output_type": "stream",
     "text": [
      "5\n"
     ]
    }
   ],
   "source": [
    "print(product)"
   ]
  },
  {
   "cell_type": "markdown",
   "id": "90be66ff",
   "metadata": {},
   "source": [
    "# Notebook"
   ]
  },
  {
   "cell_type": "markdown",
   "id": "aabbe469",
   "metadata": {},
   "source": [
    "### Notebook"
   ]
  },
  {
   "cell_type": "markdown",
   "id": "94c18929",
   "metadata": {},
   "source": [
    "[umbc blackboard](https://blackboard.umbc.edu/)"
   ]
  },
  {
   "cell_type": "markdown",
   "id": "a12ac541",
   "metadata": {},
   "source": [
    "**UMBC students**"
   ]
  },
  {
   "cell_type": "markdown",
   "id": "e0dddad7",
   "metadata": {},
   "source": [
    "##Italic\n",
    "*Data science for engineers*"
   ]
  },
  {
   "cell_type": "markdown",
   "id": "419d63f5",
   "metadata": {},
   "source": [
    "**Data science for engineers**"
   ]
  },
  {
   "cell_type": "markdown",
   "id": "c122a8fc",
   "metadata": {},
   "source": [
    "##Bolding\n",
    "**HI**"
   ]
  },
  {
   "cell_type": "markdown",
   "id": "5b3dc302",
   "metadata": {},
   "source": [
    "## Typical Data Science Life Cycle\n",
    "\n",
    "1. Business Understanding\n",
    "\n",
    "2. Data requirement and collection\n",
    "\n",
    "3. Research, Data Exploratory and literature and Solution Review\n",
    "\n",
    "4. Training and Model building\n",
    "\n",
    "5. Model Optimization\n",
    "\n",
    "6. Deployment (Productionization your model)"
   ]
  },
  {
   "cell_type": "markdown",
   "id": "984adc01",
   "metadata": {},
   "source": [
    "# Introduction to python for DS\n",
    "\n",
    "- Python is versatile and powerful programming language used in DS, ML, AI and in many other application (web development)\n",
    "\n",
    "- It is very simple to learn and well integrated into many front and back end applications\n",
    "\n",
    "- It is highly robust language to data analysis, ML and statistical modelling"
   ]
  },
  {
   "cell_type": "code",
   "execution_count": 21,
   "id": "6d1f7a5c",
   "metadata": {},
   "outputs": [],
   "source": [
    "#creating variables\n",
    "x=3\n",
    "y=9.2\n",
    "name1= \"Khyathi\"\n",
    "name2=\"Narra\"\n",
    "value=True\n",
    "\n"
   ]
  },
  {
   "cell_type": "code",
   "execution_count": 16,
   "id": "13c3bec7",
   "metadata": {},
   "outputs": [
    {
     "name": "stdout",
     "output_type": "stream",
     "text": [
      "<class 'int'>\n"
     ]
    }
   ],
   "source": [
    "print(type(x))"
   ]
  },
  {
   "cell_type": "code",
   "execution_count": 18,
   "id": "e2b7317b",
   "metadata": {},
   "outputs": [
    {
     "name": "stdout",
     "output_type": "stream",
     "text": [
      "<class 'float'>\n"
     ]
    }
   ],
   "source": [
    "print(type(y))"
   ]
  },
  {
   "cell_type": "code",
   "execution_count": 20,
   "id": "95a2ab70",
   "metadata": {},
   "outputs": [
    {
     "name": "stdout",
     "output_type": "stream",
     "text": [
      "<class 'str'>\n",
      "<class 'str'>\n"
     ]
    }
   ],
   "source": [
    "print(type(name1))\n",
    "print(type(name2))"
   ]
  },
  {
   "cell_type": "code",
   "execution_count": 23,
   "id": "6d24865f",
   "metadata": {},
   "outputs": [
    {
     "name": "stdout",
     "output_type": "stream",
     "text": [
      "<class 'bool'>\n"
     ]
    }
   ],
   "source": [
    "print(type(value))"
   ]
  },
  {
   "cell_type": "markdown",
   "id": "b70eacd7",
   "metadata": {},
   "source": [
    "### Data types\n",
    "- Int\n",
    "- Float\n",
    "- String\n",
    "- Boolean\n",
    "- List\n",
    "- set\n",
    "- tuple\n",
    "- Dictionary\n",
    "- None\n",
    "- 1+5j (complex)\n",
    "- byte and byte arrays (to assign binary data to binary files)\n",
    "- Data and time\n",
    "- custom objects"
   ]
  },
  {
   "cell_type": "code",
   "execution_count": 27,
   "id": "b68fcc3a",
   "metadata": {},
   "outputs": [
    {
     "name": "stdout",
     "output_type": "stream",
     "text": [
      "apple\n",
      "grapes\n"
     ]
    }
   ],
   "source": [
    "#Lists -- collection of items that can hold different datatypes. They are ordered and mutable\n",
    "\n",
    "fruits=[\"apple\",\"orange\",\"grapes\"]\n",
    "print(fruits[0])\n",
    "print(fruits[2])"
   ]
  },
  {
   "cell_type": "markdown",
   "id": "dd0e049b",
   "metadata": {},
   "source": [
    "### Control Flow\n",
    "-Python supports conditional statements (if, elif) and looping statements (for, while) for controllinf flow of code"
   ]
  },
  {
   "cell_type": "code",
   "execution_count": 29,
   "id": "c35d5b2b",
   "metadata": {},
   "outputs": [
    {
     "name": "stdout",
     "output_type": "stream",
     "text": [
      "you are adult\n"
     ]
    }
   ],
   "source": [
    "age = 21\n",
    "if age>18:\n",
    "    print(\"you are adult\")\n",
    "else:\n",
    "    print(\"you are minor\")"
   ]
  },
  {
   "cell_type": "code",
   "execution_count": 32,
   "id": "57db2472",
   "metadata": {},
   "outputs": [
    {
     "name": "stdout",
     "output_type": "stream",
     "text": [
      "0\n",
      "1\n",
      "2\n",
      "3\n",
      "4\n",
      "5\n",
      "6\n",
      "7\n",
      "8\n",
      "9\n"
     ]
    }
   ],
   "source": [
    "#loop\n",
    "\n",
    "for i in range(10):\n",
    "    print(i)"
   ]
  },
  {
   "cell_type": "code",
   "execution_count": 41,
   "id": "2bfa46ed",
   "metadata": {},
   "outputs": [
    {
     "data": {
      "text/plain": [
       "'Hello,{name}'"
      ]
     },
     "execution_count": 41,
     "metadata": {},
     "output_type": "execute_result"
    }
   ],
   "source": [
    "#functions\n",
    "\n",
    "def greet(name):\n",
    "    return \"Hello,{name}\"\n",
    "   \n",
    "\n",
    "greet(\"Khyathi\")\n"
   ]
  },
  {
   "cell_type": "code",
   "execution_count": null,
   "id": "6cae396d",
   "metadata": {},
   "outputs": [],
   "source": []
  }
 ],
 "metadata": {
  "kernelspec": {
   "display_name": "Python 3 (ipykernel)",
   "language": "python",
   "name": "python3"
  },
  "language_info": {
   "codemirror_mode": {
    "name": "ipython",
    "version": 3
   },
   "file_extension": ".py",
   "mimetype": "text/x-python",
   "name": "python",
   "nbconvert_exporter": "python",
   "pygments_lexer": "ipython3",
   "version": "3.9.7"
  }
 },
 "nbformat": 4,
 "nbformat_minor": 5
}
